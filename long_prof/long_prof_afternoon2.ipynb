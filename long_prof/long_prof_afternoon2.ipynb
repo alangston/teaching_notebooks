{
 "cells": [
  {
   "cell_type": "markdown",
   "id": "8f59c011-69f8-48df-b18e-570ea59215bf",
   "metadata": {},
   "source": [
    "**What is this notebook?**\n",
    "\n",
    "We will use this notebook to \n",
    "* visualize longitudinal profile response to changing boundary conditions\n",
    "* illustrate static, lithologic knickpoints in longitudinal profiles\n",
    "* explore the effects of changing bedrock erodibility on longitudinal profile evolution and knickpoint migration rates.\n",
    "\n",
    "The model simulates the evolution of detachment-limited channels in an actively uplifting landscape. The landscape evolves according to the **stream power equation**:\n",
    "\n",
    "\\begin{equation}\n",
    " \\frac{d z}{d t} = -K A^m S^n + U\n",
    "\\end{equation}\n",
    "Here, $K$ is the erodibility coefficient on fluvial incision, which is thought to be positively correlated with climate wetness, or storminess (this is hard to quantify) and to be negatively correlated with rock strength (again, rock strength is hard to quantify). $m$ and $n$ are positive exponents, usually thought to have a ratio, $m/n \\approx 0.5$. $A$ is drainage area and $S$ is the slope of steepest descent ($-\\frac{dz}{dx}$) where $x$ is horizontal distance (positive in the downslope direction) and $z$ is elevation. (If slope is negative there is no fluvial erosion.) $U$ is an externally-applied rock uplift field.\n",
    "\n",
    "The fluvial erosion term is also known as the stream power equation. Before using this notebook you should be familiar with this equation from class lectures and reading. \n",
    "\n",
    "For a great overview of the stream power equation, see: \n",
    "\n",
    "- Whipple and Tucker, 1999, Dynamics of the stream-power river incision model: Implications for height limits of mountain ranges, landscape response timescales, and research needs, Journal of Geophysical Research.\n",
    "\n",
    "For some great illustrations of modeling with the stream power equation, see:\n",
    "\n",
    "- Tucker and Whipple, 2002, Topographic outcomes predicted by stream erosion models: Sensitivity analysis and intermodel comparison, Journal of Geophysical Research.\n",
    "\n",
    "Helpful background on landscape sensitivity to rock uplift rates and patterns can be found here:\n",
    "\n",
    "- Kirby and Whipple, 2012, Expression of active tectonics in erosional landscapes, Journal of Structural Geology."
   ]
  },
  {
   "cell_type": "markdown",
   "id": "32309627-23f5-41e5-ad37-c170b38ad6b9",
   "metadata": {},
   "source": [
    "**Now on to the code...**\n",
    "\n",
    "First we have to import the python modules that are needed to run this code. You will probably have to install a new python module called celluloid. \n",
    "\n",
    "* Run the cell below only once.\n",
    "* Then restart the kernel and\n",
    "* comment out the line in the cell below."
   ]
  },
  {
   "cell_type": "code",
   "execution_count": null,
   "id": "a6fcbaa6-f7c1-4eda-9d75-c3e0d45ca560",
   "metadata": {},
   "outputs": [],
   "source": [
    "#!pip install celluloid"
   ]
  },
  {
   "cell_type": "markdown",
   "id": "f69700ba-8061-48bd-9b37-16e0144ea6ef",
   "metadata": {},
   "source": [
    "In the cell below, import python modules."
   ]
  },
  {
   "cell_type": "code",
   "execution_count": null,
   "id": "5b138eba-5062-4d78-aefd-637b188c79d1",
   "metadata": {},
   "outputs": [],
   "source": [
    "#%matplotlib ipympl\n",
    "import numpy as np\n",
    "import matplotlib.pyplot as plt\n",
    "from celluloid import Camera"
   ]
  },
  {
   "cell_type": "markdown",
   "id": "e1ab893c-fda3-4be9-9f5c-a2b79a0ffaea",
   "metadata": {},
   "source": [
    "**In the cell below** we define a function that runs the model with inputs we define below. **Do run this cell,** but don't change anything in this cell."
   ]
  },
  {
   "cell_type": "code",
   "execution_count": null,
   "id": "13a51e27-8969-4dad-8cd9-8ad77badac0e",
   "metadata": {},
   "outputs": [],
   "source": [
    "def runmodel(tmax, z, num_plots):\n",
    "    fig = plt.figure(fignum, figsize = (8,7))\n",
    "    plt.title(title_str, fontsize = 14)\n",
    "    plt.grid()\n",
    "    camera = Camera(fig)\n",
    "    \n",
    "    dt = 100\n",
    "    next_plot=1 \n",
    "    next_plot_animate = 1\n",
    "    plot_int=1e4\n",
    "    plot_int=tmax/num_plots\n",
    "\n",
    "    plot_int_animate = tmax/8\n",
    "    z0=z.copy()       #elevations to change\n",
    "    for t in np.arange(1,tmax+dt,dt):\n",
    "        #calc new slopes\n",
    "        S[:-1]=-np.diff(z)/dx\n",
    "        S[-1]= S[-2]\n",
    "        #calculate erosion using stream power model. A = ka*x**h\n",
    "        E = (ka*x**h)**m * S**n * Ki\n",
    "        # calculate change in z over time step\n",
    "        dzdt=(U - E)\n",
    "        #update height of the landscape\n",
    "        z += (dzdt*dt)        \n",
    "        #boundary condition, base level defined in each case\n",
    "        z[-1]=bl  # boundary condition is fixed during model      \n",
    "        #calcs for finding knickpoint\n",
    "        curvature=np.diff(S)/dx      #curvature of long profile\n",
    "        kk=np.sign(curvature)        #sign of curvature\n",
    "        ll=np.where(kk>0)[0]      #Find where sign of curvature is positive (a convexity)    \n",
    "        if np.size(ll) >0:\n",
    "            kppind = np.argmax(curvature[ll])\n",
    "            kpp=ll[kppind-1]                        # NEW VERSION, unsure if it's better\n",
    "            #^ this version above is the best. have to have -1 in there to adjust index\n",
    "            # that was found on the kp array to the x array, which is one element longer\n",
    "        else:\n",
    "            kpp = 0    #if there is no KP, assign value of 0 to kpp for plotting below\n",
    "\n",
    "        if t>=next_plot_animate:\n",
    "            plt.figure(fignum)\n",
    "            ########animated profile, plot profile at time step\n",
    "            #below inital profile\n",
    "            plt.plot(x,z0, color=\"forestgreen\", linestyle=\"--\")  \n",
    "            i_line = plt.plot(x,z, color = \"orchid\", linewidth = 3)\n",
    "            if lithkp:\n",
    "                plt.plot(x[K_idx_start:K_idx_end], z[K_idx_start:K_idx_end],fillstyle=\"none\",markeredgecolor=\"k\", marker=\".\",ls = \" \", label=\"less erodible\")\n",
    "            #include dots for knickpoints\n",
    "            plt.scatter(x[kpp],z[kpp], marker='o', s = 50, c = \"steelblue\", zorder=99, label=\"kpp, t = \"+str(round(t/1000))+\"ky\")\n",
    "            plt.xlabel('distance from source (m)',fontsize = 14)\n",
    "            plt.ylabel('elevation (m)',fontsize = 14)\n",
    "            plt.xlim([0, 3e4])    \n",
    "            plt.ylim([bl,max(z0)])\n",
    "            i = round(t/1000)\n",
    "            plt.legend(i_line, [f'time = {i}ky'])\n",
    "            plt.tight_layout()\n",
    "            camera.snap()\n",
    "            next_plot_animate += plot_int_animate\n",
    "    \n",
    "        if t>=next_plot:\n",
    "            ##############static profile plot#################\n",
    "            plt.figure(fignum2+1, figsize=(8,7))\n",
    "            plt.plot(x, z, linewidth = 3, label=\"profile, t = \"+str(round(t/1000))+\"ky\")\n",
    "            if lithkp:\n",
    "                plt.plot(x[K_idx_start:K_idx_end], z[K_idx_start:K_idx_end],fillstyle=\"none\",markeredgecolor=\"k\", marker=\".\",ls = \" \")\n",
    "            else:\n",
    "                plt.scatter(x[kpp],z[kpp], marker='o', s = 50, c = \"steelblue\", zorder=99)\n",
    "\n",
    "            #include dots for knickpoints\n",
    "            plt.xlabel('downstream distance (m)',fontsize = 14)\n",
    "            plt.ylabel('elevation (m)',fontsize = 14)\n",
    "            plt.title(\"stream profiles through time\", fontsize=14)\n",
    "            plt.legend()\n",
    "            plt.tight_layout()\n",
    "            #########slope area plot##############\n",
    "            plt.figure(fignum2, figsize=(8,7))\n",
    "            plt.loglog(A,S,\".\",label=\"t = \"+str(round(t/1000))+\"ky\")\n",
    "            plt.title('Slope-Area',fontsize = 14)\n",
    "            plt.xlabel(r'drainage area (m$^2$)')\n",
    "            plt.ylabel('slope (m/m)')\n",
    "            #plt.xlim([2e6, 2e8])\n",
    "            plt.legend()\n",
    "            plt.tight_layout()\n",
    "            next_plot=next_plot+plot_int\n",
    "    #create animation and save as .gif\n",
    "    animation = camera.animate(interval=750)\n",
    "    animation.save(title_str+'long_prof.gif', writer = 'pillow')    #writer = 'imagemagick'\n",
    "\n",
    "    plt.figure(fignum)\n",
    "    plt.close()\n",
    "    plt.figure(fignum2)\n",
    "    plt.grid()\n",
    "    ax = plt.gca()\n",
    "    ax.minorticks_on\n",
    "    ax.grid(which='minor', linestyle=':', linewidth=0.5, color='black')\n",
    "    plt.figure(fignum2+1)\n",
    "    plt.grid()"
   ]
  },
  {
   "cell_type": "markdown",
   "id": "4dca7d9c-d88c-420a-85a2-08ebb1a96008",
   "metadata": {},
   "source": [
    "### Set parameters\n",
    "Set parameters for the model domain, time, and stream power incision model. Initalize slope and area arrays for plotting.\n",
    "\n",
    "**Run this cell,** but you won't need to change anything in this code block."
   ]
  },
  {
   "cell_type": "code",
   "execution_count": null,
   "id": "03c42e87-0e6d-43d8-946a-193d2d597969",
   "metadata": {},
   "outputs": [],
   "source": [
    "xmax=3e4\n",
    "\n",
    "dx=100\n",
    "x_crit = 300;     #distance from divide to begin fluvial simulation (distances too close to divides do not behave like rivers)\n",
    "x=np.arange(x_crit,xmax+1,dx)\n",
    "#below, these are indicies between which lithology is decreased with lithkp option set to True\n",
    "K_idx_start = round(len(x)*0.6)\n",
    "K_idx_end = round(len(x)*0.8)\n",
    "\n",
    "n=1\n",
    "ka=6.69    #from Hack's Law\n",
    "h=1.67     #reciprocal of hack's exponent\n",
    "concavity = 0.5    #note concavity can range from ~0.35 to 0.55\n",
    "m_n = concavity\n",
    "m=concavity *n\n",
    "\n",
    "S = np.zeros(len(x))\n",
    "A=ka*x**h    #drainage areas\n",
    "dt=100\n",
    "\n",
    "fignum = 1\n",
    "fignum2 = 2"
   ]
  },
  {
   "cell_type": "markdown",
   "id": "89fe327e-d9b0-4a1d-a1f2-574811686142",
   "metadata": {},
   "source": [
    "## Set values of erodibility and uplift\n",
    "\n",
    "You can change values of erodibility and uplift in the cell below.\n",
    "\n",
    "**Increase or decrease erodibility.** The inital value for bedrock erodibiltiy, $K$, is 5e-5. Values of $K$ for this model can range from 1e-6 to 7e-5.\n",
    "\n",
    "**Uplift rate** The initial uplift rate is 0.1 mm/year. You can try increasing or decreasing rock uplift by a factor of 4 to 0.0004 m/yr. "
   ]
  },
  {
   "cell_type": "code",
   "execution_count": null,
   "id": "0b7482ae-c5dd-43e4-a599-1f47e19bee83",
   "metadata": {},
   "outputs": [],
   "source": [
    "#erosion/uplift\n",
    "K=5e-5     #erodibility coefficient\n",
    "Ui=1e-4    #uplift rate (m/yr)"
   ]
  },
  {
   "cell_type": "markdown",
   "id": "2392aa25-bbcc-43c3-b7b9-19765dac906e",
   "metadata": {},
   "source": [
    "## Set change in boundary condition\n",
    "You should change this value.\n",
    "\n",
    "**Note on surface** option  ({baselevel_fall, increase_uplift}) – change in boundary condition. 'baselevel_fall' results in 5 m of instantaneous base level fall. 'increase_uplift' causes uplift rate to double from inital set value."
   ]
  },
  {
   "cell_type": "code",
   "execution_count": null,
   "id": "ebd1057d-9493-43c2-a648-19e87e133e84",
   "metadata": {},
   "outputs": [],
   "source": [
    "# one of these surface options must be set. You can use a # to comment the lines in or out.\n",
    "surface = 'baselevel_fall'\n",
    "#surface = 'increase_uplift'\n",
    "\n",
    "if surface == 'baselevel_fall':\n",
    "    bl = -5\n",
    "    U=Ui\n",
    "    title_str = \"Base Level Fall\"    \n",
    "elif surface == 'increase_uplift':\n",
    "    bl=0\n",
    "    U=Ui*2\n",
    "    title_str = \"Increased Uplift\""
   ]
  },
  {
   "cell_type": "markdown",
   "id": "ea9e7bc2-9b5a-40ef-bf9b-7652d402b557",
   "metadata": {},
   "source": [
    "## Create initial steady state profile\n",
    "In this cell, we create a steady state longitudinal profile.\n",
    "\n",
    "**A note on option lithkp** ({True, False}) – Whether a lithology is spatialy variable in the longitudinal profiles. True means that a section of less erodible lithology is included in the long profile. False means that the long profile has uniform lithology."
   ]
  },
  {
   "cell_type": "code",
   "execution_count": null,
   "id": "15ba4978-4369-4334-b9bd-dbd2856746ea",
   "metadata": {},
   "outputs": [],
   "source": [
    "###use the options below to change the type of boundary conditions to model###\n",
    "lithkp = False\n",
    "#lithkp = True\n",
    "\n",
    "if lithkp:\n",
    "    #create a lithological knickpoint\n",
    "    Ki=np.ones(len(x))*K\n",
    "    #below, a section of the profile is 2-3 times less erodible\n",
    "    Ki[K_idx_start:K_idx_end]=K/3\n",
    "    z0=(Ui/Ki)**(1/n)*ka**(-m/n)*(1-h*m/n)**(-1)*(xmax**(1-h*m/n)-x**(1-h*m/n))\n",
    "    # below, building the steady state profile with different lithologys\n",
    "    z0[K_idx_start:K_idx_end] = z0[K_idx_start:K_idx_end]-(z0[K_idx_end-1]-z0[K_idx_end])\n",
    "    z0[:K_idx_start] = z0[:K_idx_start]+(z0[K_idx_start]-z0[K_idx_start-1])  \n",
    "    title_str = \"Lithological Knickpoint\"\n",
    "else:\n",
    "    Ki=np.ones(len(x))*K\n",
    "    z0=(Ui/K)**(1/n)*ka**(-m/n)*(1-h*m/n)**(-1)*(xmax**(1-h*m/n)-x**(1-h*m/n))\n",
    "z=z0.copy()       #elevations to change"
   ]
  },
  {
   "cell_type": "markdown",
   "id": "a57558cc-e9ba-46ed-9dfe-3e9bff5004b7",
   "metadata": {},
   "source": [
    "### Plotting inital values before change in boundary conditions\n",
    "Plot the slope and area data at each point on the landscape (in log-log space) and the inital longitudinal profile."
   ]
  },
  {
   "cell_type": "code",
   "execution_count": null,
   "id": "93ea6c6b-8108-4d77-8f99-b260c5130391",
   "metadata": {},
   "outputs": [],
   "source": [
    "#slope area plotting\n",
    "S[:-1]=-np.diff(z)/dx\n",
    "S[-1]= S[-2]    # make the last element of slope equal to the second-to-last element of slope\n",
    "plt.figure(1, figsize = (6,5))\n",
    "plt.loglog(A,S, 'k.',label=\"t = 0 ky\")\n",
    "if lithkp:\n",
    "    plt.loglog(A[K_idx_start:K_idx_end], S[K_idx_start:K_idx_end], color=\"orange\",marker=\".\",ls = \" \", label=\"less erodible\")\n",
    "plt.title('Slope-Area',fontsize = 14)\n",
    "plt.xlabel(r'drainage area (m$^2$)',fontsize = 14)\n",
    "plt.ylabel('slope',fontsize = 14)\n",
    "plt.grid()\n",
    "ax = plt.gca()\n",
    "ax.minorticks_on\n",
    "ax.grid(which='minor', linestyle=':', linewidth=0.5, color='black')\n",
    "\n",
    "plt.figure(2, figsize=(6,5))\n",
    "plt.plot(x, z, marker=\".\",linewidth = 3, label=\"profile, t = 0ky\")\n",
    "if lithkp:\n",
    "    plt.plot(x[K_idx_start:K_idx_end], z[K_idx_start:K_idx_end], marker=\".\",color=\"orange\",ls = \" \", label=\"less erodible\")\n",
    "\n",
    "plt.xlabel('distance from source (m)',fontsize = 14)\n",
    "plt.ylabel('elevation (m)',fontsize = 14)\n",
    "plt.title(\"inital longitudinal profile\", fontsize=14)\n",
    "plt.grid()\n",
    "plt.legend()\n",
    "plt.tight_layout()\n"
   ]
  },
  {
   "cell_type": "markdown",
   "id": "e2bf64e1-9d47-40cc-958f-f69bb4a9d121",
   "metadata": {},
   "source": [
    "### Set model run time\n",
    "`modelruntime` is the number of years the model will run. You can play around with changing this value.\n",
    "Time to steady state will depend on selected values of $K$ and uplift rate. When K = 5e-5, the model will reach steady state before 150,000 years; you don't need to run it any longer than that. \n",
    "\n",
    "`num_outputs` is the number of intermediate time steps you want to plot on the output figures. Setting `num_outputs` to 5 - 10 works well, but you can experiment with more outputs.\n",
    "\n",
    "**Finally, run the model through time** by running the cell below."
   ]
  },
  {
   "cell_type": "code",
   "execution_count": null,
   "id": "949991c4-22ca-4b1f-b495-dde76d5faf4a",
   "metadata": {},
   "outputs": [],
   "source": [
    "# Change the values of modelruntime and num_outputs\n",
    "# run this cell to run the model through time\n",
    "modelruntime = 50000    #model run time in years\n",
    "num_outputs = 5\n",
    "\n",
    "runmodel(tmax=modelruntime, z=z, num_plots=num_outputs)"
   ]
  },
  {
   "cell_type": "markdown",
   "id": "41558a7a-c2af-4db9-895c-0b67f4065f93",
   "metadata": {},
   "source": [
    "**The cell below** displays an animated gif of knickpoint retreat through time that was created in the model run."
   ]
  },
  {
   "cell_type": "code",
   "execution_count": null,
   "id": "d9da4574-8781-4f28-be8b-874d168c5021",
   "metadata": {},
   "outputs": [],
   "source": [
    "from IPython.display import IFrame\n",
    "IFrame(title_str+'long_prof.gif', width=1000, height=900)"
   ]
  },
  {
   "cell_type": "markdown",
   "id": "e8332b6f-77e7-4fce-8b41-194d7e1316fb",
   "metadata": {},
   "source": [
    "## Working with the model: Part 1\n",
    "**Rock erodibility**: This parameter is analogous to the erodibility parameter (K) we discussed in lecture. Hard rocks have low erodibility, weak rocks have high erodibility. \r\n",
    "\r\n",
    "•\tRun the simulation using the parametewn bel:\n",
    "\n",
    "$K$ = 7e-5 yr$^{-1}$\n",
    "\n",
    "$U$ = 0.0001 m/yr\n",
    "\n",
    "`lithkp` = False\n",
    "\n",
    "`surface` = baselevel_fall\n",
    "\n",
    "`modelruntime` = 50,000.\n",
    "1. How far does the knickpoint migrate upstream during the first 50,000 years of the model simulation? Give your answer in m.\n",
    "2. What is the average migration rate of the knickpoint over 50,000 years? Give your answer in cm/year.\n",
    "\n",
    "* Now change $K$ to 7e-6 yr$^{-1}$ and rerun the model for 50,000.\r\n",
    "3. How far does the knickpoint migrate upstream during the first 50,000 years of the model simulation? Give your answer in m.\n",
    "4. What is the average migration rate of the knickpoint over 50,000 years? Give your answer in cm/year.\n",
    "5. How does the migration rate compare between the low erodibility and high erodibility model runs? What does this tell us about the time scale of adjustment for hard rocks vs. soft rocks?\n",
    "6. Give two examples of rocks/channel material with low erodibility\n",
    "   \r\n",
    "8.\tGive two examples of rocks/channel material with high erodibiity.\r\n",
    "\r\n",
    " \r\n"
   ]
  },
  {
   "cell_type": "markdown",
   "id": "019cd611-3d5e-4753-9757-62056ec73b0f",
   "metadata": {
    "jp-MarkdownHeadingCollapsed": true
   },
   "source": [
    "## Working with the model: Part 2\n",
    "**Increased uplift**\n",
    "Run the simulation using the parameters below:\n",
    "\n",
    "$K$ = 5e-5 yr$^{-1}$\n",
    "\n",
    "$U$ = 0.0001 m/yr\n",
    "\n",
    "`lithkp` = False\n",
    "\n",
    "`surface` = uplift_increase\n",
    "\n",
    "`modelruntime` = 50,000\n",
    "\n",
    "Use the slope-area plots and the plots of the channel profile through time to consider the following questions.\n",
    "\n",
    "1. Looking at the channel profiles through time, qualitatively describe what happens to the longitudinal profile following an increase in uplift rate. How is the new steady state channel different from the initial channel?\n",
    "2. Now looking at the slope area figure through time. Part of the data points in this figures have reached a new steady state and some of them have not. Which section of the figure has data that has reached new steady state. How do you know?\n",
    "3. If you think about how the slope area plot will change through time, what will the slope area plot look like when the entire channel profile has reached its new steady state with higher uplift rate? (describe or sketch)"
   ]
  },
  {
   "cell_type": "markdown",
   "id": "401144ba-5cc6-4211-be31-65d1dafd159a",
   "metadata": {
    "jp-MarkdownHeadingCollapsed": true
   },
   "source": [
    "## Working with the model: Part 3\n",
    "**Lithological knickpoints**\n",
    "\n",
    "Run the simulation using the parameters below:\n",
    "\n",
    "$K$ = 5e-5 yr$^{-1}$\n",
    "\n",
    "$U$ = 0.0001 m/yr\n",
    "\n",
    "`lithkp` = True\n",
    "\n",
    "`surface` = baselevel_fall\n",
    "\n",
    "`modelruntime` = 50,000\n",
    "\n",
    "\n",
    "Use the slope-area and channel profile figures to consider the following questions.\n",
    "\n",
    "1. Looking at the **inital** figures of  slope-area and channel profile (figures before base level fall). Is there a knickpoint? How can you tell from the channel profile and slope area figure? Is this channel in steady state?\n",
    "2. **Challenge:** Run the model through time and change the value of the parameter `num_outputs` estimate knickpoint migration rate in the profile sections with different erodibilties.\n",
    "   * What is the knickpoint migration rate in the more erodible sections?\n",
    "   * What is the knickpoint migration rate in the less erodible section?"
   ]
  }
 ],
 "metadata": {
  "kernelspec": {
   "display_name": "Python 3 (ipykernel)",
   "language": "python",
   "name": "python3"
  },
  "language_info": {
   "codemirror_mode": {
    "name": "ipython",
    "version": 3
   },
   "file_extension": ".py",
   "mimetype": "text/x-python",
   "name": "python",
   "nbconvert_exporter": "python",
   "pygments_lexer": "ipython3",
   "version": "3.11.8"
  }
 },
 "nbformat": 4,
 "nbformat_minor": 5
}
