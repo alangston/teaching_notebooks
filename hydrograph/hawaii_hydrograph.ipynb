{
 "cells": [
  {
   "cell_type": "code",
   "execution_count": 1,
   "metadata": {},
   "outputs": [],
   "source": [
    "import matplotlib.pyplot as plt\n",
    "plt.ion()\n",
    "import pandas as pd\n",
    "import numpy as np"
   ]
  },
  {
   "cell_type": "code",
   "execution_count": 2,
   "metadata": {},
   "outputs": [],
   "source": [
    "def import_stuff(file_name, area):\n",
    "    return_df = pd.read_csv(file_name+\".csv\", parse_dates=['datetime'], index_col=['datetime'])\n",
    "    return_df = return_df.replace({'discharge':0}, 1e-2)    \n",
    "#    return_df[\"discharge\"] = return_df[\"discharge\"] /35.315\n",
    "    return_df[\"unit_discharge\"] = return_df[\"discharge\"] / area\n",
    "    return return_df"
   ]
  },
  {
   "cell_type": "code",
   "execution_count": 3,
   "metadata": {},
   "outputs": [],
   "source": [
    "loc_name = \"data/hawaii/\"\n",
    "kamananui = import_stuff(loc_name+\"kamananui\", area = 31)\n",
    "honolii = import_stuff(loc_name+\"honolii\", area = 31)\n",
    "\n",
    "honolii = honolii.truncate(before='2016-10-01', after='2017-09-30')\n",
    "kamananui = kamananui.truncate(before='2016-10-01', after='2017-09-30')"
   ]
  },
  {
   "cell_type": "code",
   "execution_count": 4,
   "metadata": {},
   "outputs": [
    {
     "name": "stdout",
     "output_type": "stream",
     "text": [
      "Using matplotlib backend: TkAgg\n"
     ]
    },
    {
     "data": {
      "text/plain": [
       "<matplotlib.legend.Legend at 0x1c71ffe2c48>"
      ]
     },
     "execution_count": 4,
     "metadata": {},
     "output_type": "execute_result"
    }
   ],
   "source": [
    "%matplotlib\n",
    "#plt.figure(figsize=[8,5])\n",
    "##\n",
    "#plt.scatter(bighawaii_prob1[\"probability\"], bighawaii_prob1[\"unit_discharge\"],\n",
    "#            color=\"navy\", label=\"big hawaii\")\n",
    "plt.plot(honolii.index, honolii[\"discharge\"],linewidth=2.75, marker=\"*\",\n",
    "            color=\"turquoise\", label=\"Watershed 1\")\n",
    "plt.plot(kamananui.index, kamananui[\"discharge\"],linewidth=2.75, marker=\"o\",\n",
    "            color=\"coral\", label=\"Watershed 2\")\n",
    "\n",
    "plt.yscale('log')\n",
    "plt.ylim([1e-1, 5000])\n",
    "plt.xlim([honolii.index[0], honolii.index[-1]])\n",
    "plt.xlabel('date', fontsize=14)\n",
    "plt.ylabel('discharge (m$^3$/s)', fontsize=14)\n",
    "plt.grid()\n",
    "plt.title(\"Hydrograph\")\n",
    "plt.tight_layout()\n",
    "plt.legend(loc=1)"
   ]
  },
  {
   "cell_type": "markdown",
   "metadata": {},
   "source": [
    "Thinking of usign this notebook for GEOG 740, but not sure I want to devote time to it right now. "
   ]
  }
 ],
 "metadata": {
  "kernelspec": {
   "display_name": "Python 3",
   "language": "python",
   "name": "python3"
  },
  "language_info": {
   "codemirror_mode": {
    "name": "ipython",
    "version": 3
   },
   "file_extension": ".py",
   "mimetype": "text/x-python",
   "name": "python",
   "nbconvert_exporter": "python",
   "pygments_lexer": "ipython3",
   "version": "3.7.9"
  }
 },
 "nbformat": 4,
 "nbformat_minor": 4
}
