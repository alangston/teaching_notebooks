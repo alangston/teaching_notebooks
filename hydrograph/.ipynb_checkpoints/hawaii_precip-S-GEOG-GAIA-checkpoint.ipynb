{
 "cells": [
  {
   "cell_type": "markdown",
   "metadata": {},
   "source": [
    "## Match the Hydrographs Game, Part 2\n",
    "\n",
    "The hydrographs that we will create below are from two locations in Hawaii that are within ~100 miles of each other: [Honolii Stream](https://waterdata.usgs.gov/monitoring-location/16717000/#parameterCode=00060&period=P365D&showMedian=false) and [Kamananui Stream] (https://waterdata.usgs.gov/monitoring-location/16330000/#parameterCode=00060&period=P365D&showMedian=false). The soils, lithology, and land cover in the two watersheds are more or less the same in these two hydrographs, but the magnitude of discharge is quite different. \n",
    "\n",
    "**The goal of this exercise is to consider possibilities of why these hydrographs are different**"
   ]
  },
  {
   "cell_type": "code",
   "execution_count": null,
   "metadata": {},
   "outputs": [],
   "source": [
    "%matplotlib ipympl\n",
    "\n",
    "import matplotlib.pyplot as plt\n",
    "import pandas as pd\n",
    "import numpy as np"
   ]
  },
  {
   "cell_type": "markdown",
   "metadata": {},
   "source": [
    "### Import data\n",
    "The cell below imports discharge and precipitation data from four rivers. The data records are all around 2 years long, but do not cover the same time periods."
   ]
  },
  {
   "cell_type": "code",
   "execution_count": null,
   "metadata": {},
   "outputs": [],
   "source": [
    "def import_stuff(file_name):\n",
    "    return_df = pd.read_csv(file_name+\".csv\", parse_dates=['datetime'], index_col=['datetime'])\n",
    "    return_df = return_df.replace({'discharge':0}, 1e-2)    \n",
    "    precip_df = pd.read_csv(file_name+\"_precip.csv\")\n",
    "    return_df[\"discharge\"] = return_df[\"discharge\"] \n",
    "    return_df[\"precip\"] = np.array(precip_df[\"DataValue\"])\n",
    "    return_df = return_df.replace({'precip':-9999}, 0)\n",
    "    return return_df\n",
    "\n",
    "loc_name = \"data/hawaii/\"\n",
    "\n",
    "kamananui = import_stuff(loc_name+\"kamananui\")\n",
    "honolii= import_stuff(loc_name+\"honolii\")"
   ]
  },
  {
   "cell_type": "markdown",
   "metadata": {},
   "source": [
    "### Clip data"
   ]
  },
  {
   "cell_type": "code",
   "execution_count": null,
   "metadata": {},
   "outputs": [],
   "source": [
    "honolii = honolii.truncate(before='2016-11-01', after='2017-07-30')\n",
    "kamananui = kamananui.truncate(before='2016-11-01', after='2017-07-30')"
   ]
  },
  {
   "cell_type": "markdown",
   "metadata": {},
   "source": [
    "### Plot figures\n",
    "Note that this time, I am not using a plotting function to create the hydrographs"
   ]
  },
  {
   "cell_type": "code",
   "execution_count": null,
   "metadata": {},
   "outputs": [],
   "source": [
    "plt.figure(figsize=[8,5])\n",
    "plt.plot(honolii.index, honolii[\"discharge\"],linewidth=2.75, marker=\"*\",\n",
    "            color=\"turquoise\", label=\"Honolii\")\n",
    "plt.plot(kamananui.index, kamananui[\"discharge\"],linewidth=2.75, marker=\"o\",\n",
    "            color=\"coral\", label=\"Kamananui\")\n",
    "\n",
    "plt.yscale('log')\n",
    "plt.ylim([1e-1, 5000])\n",
    "plt.xlim([honolii.index[0], honolii.index[-1]])\n",
    "plt.xlabel('date', fontsize=14)\n",
    "plt.ylabel('discharge (ft$^3$/s)', fontsize=14)\n",
    "plt.grid()\n",
    "plt.title(\"Hydrographs in Hawaii\")\n",
    "plt.tight_layout()\n",
    "plt.legend(loc=1)"
   ]
  },
  {
   "cell_type": "markdown",
   "metadata": {},
   "source": [
    "## Stop Here!\n",
    "\n",
    "Look at the figure above. The figure above shows hydrographs from two locations in Hawaii within ~100 miles of each other. The soils, lithology, and land cover in the two watersheds are more or less the same in these two hydrographs.\n",
    "\n",
    "* Which hydrograph has the higher mean annual discharge?\n",
    "* What is the peak discharge at Honolii? \n",
    "* What is the peak discharge at Kamananui? \n",
    "\n",
    "* What possible reasons can explain thedifferences in discharge between these two hydrographs? "
   ]
  },
  {
   "cell_type": "markdown",
   "metadata": {},
   "source": [
    "## Next\n",
    "After you have taken sometime to think about the hydrographs above, run the cell blocks below to check your explanations."
   ]
  },
  {
   "cell_type": "markdown",
   "metadata": {},
   "source": [
    "### Defining the plotting function for discharge and precipitation\n",
    "In the cell below, I define a function that will plot my discharge and precipitation data. "
   ]
  },
  {
   "cell_type": "code",
   "execution_count": null,
   "metadata": {},
   "outputs": [],
   "source": [
    "def plot_precip_discharge(df_name, ur_color):\n",
    "    fig, ax1 = plt.subplots(figsize=(10,5))\n",
    "    ax1.set_ylabel('precip (mm/day)', fontsize=14 )  # we already handled the x-label with ax1\n",
    "    ax1.bar(df_name.index,df_name[\"precip\"], width=3)\n",
    "\n",
    "    ydata=np.array(df_name[\"precip\"])\n",
    "    ax1.invert_yaxis()\n",
    "    ax1.set_ylim([200, 0])\n",
    "    ax1.tick_params(axis='y')\n",
    "      \n",
    "    ax2 = ax1.twinx()  # instantiate a second axes that shares the same x-axis\n",
    "    \n",
    "    ax2.set_xlabel('time')\n",
    "    ax2.set_ylabel('discharge (ft$^3$/s)', fontsize=14)\n",
    "    ax2.plot(df_name.index, df_name[\"discharge\"], linewidth=1.75, marker=\"*\", color = ur_color, label=\"VT\")\n",
    "    ax2.set_yscale('log')\n",
    "    ax2.set_ylim([0.1, 5000])\n",
    "    ax2.set_xlim([df_name.index[0], df_name.index[-1]])\n",
    "    ax2.tick_params(axis='y')\n",
    "    plt.grid()\n",
    "    plt.show()\n",
    "    \n",
    "    fig.tight_layout()  # otherwise the right y-label is slightly clipped"
   ]
  },
  {
   "cell_type": "markdown",
   "metadata": {},
   "source": [
    "### Next, \n",
    "Call the function and give it the data you want to plot. You can change the input parameter `ur_color` to any other color that is supported by matplotlib (google for a list)."
   ]
  },
  {
   "cell_type": "code",
   "execution_count": null,
   "metadata": {
    "scrolled": false
   },
   "outputs": [],
   "source": [
    "plot_precip_discharge(kamananui, ur_color = \"turquoise\")"
   ]
  },
  {
   "cell_type": "markdown",
   "metadata": {},
   "source": [
    "### Now\n",
    "use the plotting function to plot the second set of data."
   ]
  },
  {
   "cell_type": "code",
   "execution_count": null,
   "metadata": {},
   "outputs": [],
   "source": [
    "plot_precip_discharge(honolii, ur_color = \"coral\")"
   ]
  },
  {
   "cell_type": "markdown",
   "metadata": {},
   "source": [
    "## Stop here:\n",
    "Can you infer the primary control on discharge in these two watersheds from the figures above?"
   ]
  },
  {
   "cell_type": "markdown",
   "metadata": {},
   "source": [
    "The final two cells below calculate the total precipitation in each data record, confirming that precipitation controls discharge in these locations."
   ]
  },
  {
   "cell_type": "code",
   "execution_count": null,
   "metadata": {},
   "outputs": [],
   "source": [
    "np.sum(kamananui[\"precip\"])"
   ]
  },
  {
   "cell_type": "code",
   "execution_count": null,
   "metadata": {},
   "outputs": [],
   "source": [
    "np.sum(honolii[\"precip\"])"
   ]
  },
  {
   "cell_type": "code",
   "execution_count": null,
   "metadata": {},
   "outputs": [],
   "source": [
    "len(honolii[\"precip\"])"
   ]
  }
 ],
 "metadata": {
  "kernelspec": {
   "display_name": "Python 3 (ipykernel)",
   "language": "python",
   "name": "python3"
  },
  "language_info": {
   "codemirror_mode": {
    "name": "ipython",
    "version": 3
   },
   "file_extension": ".py",
   "mimetype": "text/x-python",
   "name": "python",
   "nbconvert_exporter": "python",
   "pygments_lexer": "ipython3",
   "version": "3.11.5"
  }
 },
 "nbformat": 4,
 "nbformat_minor": 4
}
