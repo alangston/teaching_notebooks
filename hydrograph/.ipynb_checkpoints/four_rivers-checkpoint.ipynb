{
 "cells": [
  {
   "cell_type": "markdown",
   "id": "92b74fe4",
   "metadata": {},
   "source": [
    "## Match the Hydrographs Game\n",
    "\n",
    "A hydrograph shows discharge, Q, in a river or stream through time. Certain characteristics of a single envent in a hydrograph can inform us about the processes that are acting in a watershed, for example how water is delivered from hillslopes to channels. Longer term (yearly) trends in hydrographs generally reflect larger scale controls on discharge such as climate and size of the drainage basin. \n",
    "\n",
    "The goal of this exercise is to analyze these hydrographs in order to better understand the multiple factors that control hydrograph shape including\n",
    "* Regional climate\n",
    "* Seasonal changes in climate\n",
    "* Water delivery from the hillslopes to channels\n"
   ]
  },
  {
   "cell_type": "markdown",
   "id": "0ea1935e",
   "metadata": {},
   "source": [
    "### San Pedro River, AZ\n",
    "* The San Pedro River is the last major, undammed desert river in the American Southwest.\n",
    "* At the USGS discharge station on the [San Pedro River at Redington Bridge](https://waterdata.usgs.gov/monitoring-location/09472050/#parameterCode=00060&period=P365D&showMedian=false), the San Pedro has a drainage area of 8,000 km$^2$.\n",
    "* The north-flowing San Pedro is fed by numerous tributaries that drain relatively short and steep catchments oriented more or less perpendicular to the mainstem.\n",
    "\n",
    "\n",
    "<div>\n",
    "<img src=\"img/sanpedro_map.png\" width=\"500\"/>\n",
    "</div>\n",
    "\n",
    "<div>\n",
    "<img src=\"img/sanpedro_pic.png\" width=\"500\"/>\n",
    "</div>"
   ]
  },
  {
   "cell_type": "markdown",
   "id": "d9854331",
   "metadata": {},
   "source": [
    "### Hood River, OR\n",
    "* The watershed is on the eastern flanks of the Cascade Mountains; moist air from the Pacific Ocean undergoes orographic lifting as it encounters the high elevations along the western and southern boundaries of the watershed, resulting in high precipitation in these regions. \n",
    "* The headwaters of the watershed are fed in by the glaciers along the northern and eastern sides of Mount Hood. \n",
    "* At the USGS discharge station on [Hood River at Tucker Bridge](https://waterdata.usgs.gov/monitoring-location/14120000/#parameterCode=00060&period=P365D&showMedian=false), the Hood River has a drainage area of 722 km$^2$.\n",
    "\n",
    "* Average annual precipitation at higher elevations in the watershed is 390 cm/year\n",
    "\n",
    "\n",
    "\n",
    "<div>\n",
    "<img src=\"img/mthood_map.png\" width=\"500\"/>\n",
    "</div>\n",
    "\n",
    "<div>\n",
    "<img src=\"img/mthoodview.jpg\" width=\"500\"/>\n",
    "</div>"
   ]
  },
  {
   "cell_type": "markdown",
   "id": "1fb57a1b",
   "metadata": {},
   "source": [
    "### Matanuska River, AK\n",
    "* The Matanuska River is located near Anchorage, AK and is sourced by the Matanuska Glacier\n",
    "* At the USGS discharge station on the [Matanuska River at Palmer](https://waterdata.usgs.gov/monitoring-location/15284000/#parameterCode=00060&period=P365D&showMedian=false) upstream drainage area is 5335 km$^2$.\n",
    "* In addition to season-to-season and year-to-year variations, the Matanuska River also exhibits diurnal/daily flow rate fluctuations, due to the changes in glacier and snow melt (especially at higher elevations) between day and night. \n",
    "* Mean annual precip = 35 cm rain; 122 cm snow\n",
    "\n",
    "\n",
    "\n",
    "<div>\n",
    "<img src=\"img/matanuska_map.png\" width=\"500\"/>\n",
    "</div>\n",
    "\n",
    "<div>\n",
    "<img src=\"img/matanuska_braided.jpg\" width=\"500\"/>\n",
    "</div>"
   ]
  },
  {
   "cell_type": "markdown",
   "id": "be8b006e",
   "metadata": {},
   "source": [
    "### Santa Fe River, FL\n",
    "* The [Santa Fe River at OLeno](https://waterdata.usgs.gov/monitoring-location/02321898/#parameterCode=00060&period=P365D&showMedian=false) has an upstream drainage area of 3574 km$^2$.\n",
    "\n",
    "* The Santa Fe River in north-central Florida is typical of many rivers in karst regions in that it completely disappears underground and then reappears 5 km (3 mi) downstream.\n",
    "\n",
    "* The Santa Fe River is usually a slow-flowing river. This slow flow speed, combined with the abundant leaf-drop from nearby trees leads to a very dark-brown river due to dissolved tannins.\n",
    "* Average annual precip = 150 cm\n",
    "\n",
    "\n",
    "<div>\n",
    "<img src=\"img/oleno_map.png\" width=\"800\"/>\n",
    "</div>\n",
    "\n",
    "<div>\n",
    "<img src=\"img/oleno_upstream.jpg\" width=\"500\"/>\n",
    "</div>\n",
    "<div>\n",
    "<img src=\"img/olenospring.jpg\" width=\"500\"/>\n",
    "</div>"
   ]
  },
  {
   "cell_type": "markdown",
   "id": "1f069ae2",
   "metadata": {},
   "source": [
    "### Running this notebook\n",
    "We are working in a Jupyter notebook environment. A Jupyter notebook is a browser-based application that allows you to create and share documents (i.e. Jupyter Notebook files) that contain live code, equations, visualizations, and narrative text. \n",
    "\n",
    "Below are several cells that will import discharge and precipitation data and create a hydrograph-hyetograph of this data. You will use this notebook and the figures to decide which hydro-hyetograph belongs to each location."
   ]
  },
  {
   "cell_type": "markdown",
   "id": "32b92058",
   "metadata": {},
   "source": [
    "Below, import some python packages we will need."
   ]
  },
  {
   "cell_type": "code",
   "execution_count": null,
   "id": "c6de5adc",
   "metadata": {},
   "outputs": [],
   "source": [
    "%matplotlib ipympl\n",
    "\n",
    "import matplotlib.pyplot as plt\n",
    "import pandas as pd\n",
    "import numpy as np"
   ]
  },
  {
   "cell_type": "markdown",
   "id": "2bec1e9a",
   "metadata": {},
   "source": [
    "### Import data\n",
    "The cell below imports discharge and precipitation data from four rivers. The data records are all around 2 years long, but do not cover the same time periods."
   ]
  },
  {
   "cell_type": "code",
   "execution_count": null,
   "id": "f457b06d",
   "metadata": {},
   "outputs": [],
   "source": [
    "dataloc = \"./data/four_rivers/\"\n",
    "river1 = pd.read_csv(dataloc + \"river1.csv\", parse_dates=['datetime'], index_col=['datetime'])\n",
    "river2 = pd.read_csv(dataloc + \"river2.csv\", parse_dates=['datetime'], index_col=['datetime'])\n",
    "river3 = pd.read_csv(dataloc + \"river3.csv\", parse_dates=['datetime'], index_col=['datetime'])\n",
    "river4 = pd.read_csv(dataloc + \"river4.csv\", parse_dates=['datetime'], index_col=['datetime'])"
   ]
  },
  {
   "cell_type": "markdown",
   "id": "3ef86189",
   "metadata": {},
   "source": [
    "In the cell below, I use the command `head()` on the dataframe `river1`, and I can see the first five lines of data in river1."
   ]
  },
  {
   "cell_type": "code",
   "execution_count": null,
   "id": "8f636943",
   "metadata": {},
   "outputs": [],
   "source": [
    "river1.head()"
   ]
  },
  {
   "cell_type": "markdown",
   "id": "07f55acc",
   "metadata": {},
   "source": [
    "### Clip data\n",
    "In the cell below, I want to clip the data to include only 1 year of data instead of two. \n",
    "\n",
    "* You can come back to this cell and clip or extend the date range at any time!"
   ]
  },
  {
   "cell_type": "code",
   "execution_count": null,
   "id": "0098dba0",
   "metadata": {},
   "outputs": [],
   "source": [
    "river2 = river2.truncate(before='2017-01-01', after='2018-12-30')\n",
    "river3 = river3.truncate(before='2017-01-01', after='2018-12-30')\n",
    "river4 = river4.truncate(before='2017-01-01', after='2018-12-30')"
   ]
  },
  {
   "cell_type": "markdown",
   "id": "0187a66a",
   "metadata": {},
   "source": [
    "### Defining the plotting function\n",
    "In the cell below, I define a function that will plot my discharge and precipitation data. Using a function to create a is very handy because the function creates the figure the same way (e.g., same font sizes, same line colors, same axes limits, etc.) every single time!"
   ]
  },
  {
   "cell_type": "code",
   "execution_count": null,
   "id": "4c46be76",
   "metadata": {},
   "outputs": [],
   "source": [
    "def plot_precip_discharge(df_name, temp_flag=None, label_str=None):\n",
    "    fig, ax1 = plt.subplots(figsize=(10,5))\n",
    "#    color = 'tab:blue'\n",
    "    if temp_flag is not None:\n",
    "        ax1.set_ylabel('water temperature ($^o$C)' , fontsize=14)  # we already handled the x-label with ax1\n",
    "        ax1.bar(df_name.index,df_name[\"temp\"], width=3)\n",
    "        ydata=np.array(df_name[\"temp\"])\n",
    "    else:\n",
    "        ax1.set_ylabel('precip (mm/day)', fontsize=14 )  # we already handled the x-label with ax1\n",
    "        ax1.bar(df_name.index,df_name[\"precip\"], width=3, label=\"precip\")\n",
    "        ydata=np.array(df_name[\"precip\"])\n",
    "    ax1.invert_yaxis()\n",
    "    if np.nanmax(ydata)<50.:\n",
    "        ax1.set_ylim([np.nanmax(ydata)*2, 0])\n",
    "    else:\n",
    "        ax1.set_ylim([300, 0])\n",
    "    ax1.tick_params(axis='y')\n",
    "    ax2 = ax1.twinx()  # instantiate a second axes that shares the same x-axis\n",
    "\n",
    "    ax2.set_xlabel('time')\n",
    "    ax2.set_ylabel('discharge (m$^3$/s)', fontsize=14)\n",
    "    ax2.plot(df_name.index, df_name[\"discharge\"], linewidth=1.75, marker=\"*\", color = \"firebrick\", label=\"discharge\")\n",
    "    ax2.set_yscale('log')\n",
    "    ax2.set_ylim([10, 20000])\n",
    "    ax2.set_xlim([df_name.index[0], df_name.index[-1]])\n",
    "    ax2.tick_params(axis='y')\n",
    "    plt.grid()\n",
    "    plt.legend(loc=4)\n",
    "    if label_str is not None:\n",
    "        plt.title(label_str)\n",
    "    fig.tight_layout()  # otherwise the right y-label is slightly clipped"
   ]
  },
  {
   "cell_type": "markdown",
   "id": "122b60c1",
   "metadata": {},
   "source": [
    "### Creating the figures\n",
    "In the cell below, I call the plotting function, send the data for river1 to the function, and the function returns a figure!\n",
    "\n",
    "After you run the cell below, a window with the figure should appear. \n",
    "* Use the controls on the left side of the figure to zoom in and out of the figure. \n",
    "* Hover your cursor over the figure; you will be able to see the x and y values of your cursor appear at the bottom of the figure. "
   ]
  },
  {
   "cell_type": "code",
   "execution_count": null,
   "id": "ad7ebdde",
   "metadata": {},
   "outputs": [],
   "source": [
    "plot_precip_discharge(river1, label_str=\"River 1\")\n"
   ]
  },
  {
   "cell_type": "code",
   "execution_count": null,
   "id": "99ae1101",
   "metadata": {},
   "outputs": [],
   "source": [
    "plot_precip_discharge(river2, label_str=\"River 2\")"
   ]
  },
  {
   "cell_type": "code",
   "execution_count": null,
   "id": "41ee2314",
   "metadata": {},
   "outputs": [],
   "source": [
    "plot_precip_discharge(river3, label_str=\"River 3\")"
   ]
  },
  {
   "cell_type": "code",
   "execution_count": null,
   "id": "b8ecd5ae",
   "metadata": {},
   "outputs": [],
   "source": [
    "plot_precip_discharge(river4, temp_flag=1, label_str=\"River 4\")"
   ]
  }
 ],
 "metadata": {
  "kernelspec": {
   "display_name": "Python 3 (ipykernel)",
   "language": "python",
   "name": "python3"
  },
  "language_info": {
   "codemirror_mode": {
    "name": "ipython",
    "version": 3
   },
   "file_extension": ".py",
   "mimetype": "text/x-python",
   "name": "python",
   "nbconvert_exporter": "python",
   "pygments_lexer": "ipython3",
   "version": "3.11.5"
  }
 },
 "nbformat": 4,
 "nbformat_minor": 5
}
