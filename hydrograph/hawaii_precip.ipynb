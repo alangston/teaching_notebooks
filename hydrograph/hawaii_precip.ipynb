{
 "cells": [
  {
   "cell_type": "code",
   "execution_count": 1,
   "metadata": {},
   "outputs": [],
   "source": [
    "import matplotlib.pyplot as plt\n",
    "import pandas as pd\n",
    "import numpy as np"
   ]
  },
  {
   "cell_type": "code",
   "execution_count": 2,
   "metadata": {},
   "outputs": [],
   "source": [
    "def import_stuff2(file_name, area):\n",
    "    return_df = pd.read_csv(file_name+\".csv\", parse_dates=['datetime'], index_col=['datetime'])\n",
    "    return_df = return_df.replace({'discharge':0}, 1e-2)    \n",
    "    precip_df = pd.read_csv(file_name+\"_precip.csv\")\n",
    "\n",
    "    return_df[\"discharge\"] = return_df[\"discharge\"] \n",
    "    return_df[\"unit_discharge\"] = return_df[\"discharge\"] / area\n",
    "    return_df[\"precip\"] = np.array(precip_df[\"DataValue\"])\n",
    "    return_df = return_df.replace({'precip':-9999}, 0)\n",
    "    return return_df"
   ]
  },
  {
   "cell_type": "code",
   "execution_count": 3,
   "metadata": {},
   "outputs": [],
   "source": [
    "loc_name = \"data/hawaii/\"\n",
    "\n",
    "kamananui = import_stuff2(loc_name+\"kamananui\", area = 31.9)\n",
    "# kama_prob1 = calculate_return(kama, \"discharge\")\n",
    "\n",
    "honolii= import_stuff2(loc_name+\"honolii\", area = 31.1)"
   ]
  },
  {
   "cell_type": "code",
   "execution_count": 8,
   "metadata": {},
   "outputs": [],
   "source": [
    "#%%\n",
    "def plot_precip_discharge(df_name, ur_color):\n",
    "    %matplotlib\n",
    "    plt.ion()\n",
    "    fig, ax1 = plt.subplots(figsize=(10,5))\n",
    "\n",
    "    ax1.set_ylabel('precip (mm/day)', fontsize=14 )  # we already handled the x-label with ax1\n",
    "    ax1.bar(df_name.index,df_name[\"precip\"], width=3)\n",
    "\n",
    "    ydata=np.array(df_name[\"precip\"])\n",
    "    # print(\"max precip\", df_name.index,df_name[\"precip\"]).max()\n",
    "    # print(frog)\n",
    "    ax1.invert_yaxis()\n",
    "    ax1.set_ylim([200, 0])\n",
    "    ax1.tick_params(axis='y')\n",
    "      \n",
    "    ax2 = ax1.twinx()  # instantiate a second axes that shares the same x-axis\n",
    "    \n",
    "    ax2.set_xlabel('time')\n",
    "    ax2.set_ylabel('discharge (m$^3$/s)', fontsize=14)\n",
    "    ax2.plot(df_name.index, df_name[\"discharge\"], linewidth=1.75, marker=\"*\", color = ur_color, label=\"VT\")\n",
    "    ax2.set_yscale('log')\n",
    "    ax2.set_ylim([0.1, 100])\n",
    "    ax2.set_xlim([df_name.index[0], df_name.index[-1]])\n",
    "    ax2.tick_params(axis='y')\n",
    "    plt.grid()\n",
    "    plt.show()\n",
    "    \n",
    "    fig.tight_layout()  # otherwise the right y-label is slightly clipped\n",
    "\n"
   ]
  },
  {
   "cell_type": "code",
   "execution_count": 5,
   "metadata": {},
   "outputs": [],
   "source": [
    "honolii = honolii.truncate(before='2016-11-01', after='2017-07-30')\n",
    "kamananui = kamananui.truncate(before='2016-11-01', after='2017-07-30')"
   ]
  },
  {
   "cell_type": "code",
   "execution_count": 9,
   "metadata": {},
   "outputs": [
    {
     "name": "stdout",
     "output_type": "stream",
     "text": [
      "Using matplotlib backend: TkAgg\n"
     ]
    }
   ],
   "source": [
    "plot_precip_discharge(kamananui, ur_color = \"turquoise\")"
   ]
  },
  {
   "cell_type": "code",
   "execution_count": 10,
   "metadata": {},
   "outputs": [
    {
     "name": "stdout",
     "output_type": "stream",
     "text": [
      "Using matplotlib backend: TkAgg\n"
     ]
    }
   ],
   "source": [
    "plot_precip_discharge(honolii, ur_color = \"coral\")\n"
   ]
  },
  {
   "cell_type": "code",
   "execution_count": null,
   "metadata": {},
   "outputs": [],
   "source": []
  }
 ],
 "metadata": {
  "kernelspec": {
   "display_name": "Python 3",
   "language": "python",
   "name": "python3"
  },
  "language_info": {
   "codemirror_mode": {
    "name": "ipython",
    "version": 3
   },
   "file_extension": ".py",
   "mimetype": "text/x-python",
   "name": "python",
   "nbconvert_exporter": "python",
   "pygments_lexer": "ipython3",
   "version": "3.7.9"
  }
 },
 "nbformat": 4,
 "nbformat_minor": 4
}
