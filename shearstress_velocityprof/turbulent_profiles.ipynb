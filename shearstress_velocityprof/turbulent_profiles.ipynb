{
 "cells": [
  {
   "cell_type": "code",
   "execution_count": null,
   "id": "6fbcefd4",
   "metadata": {},
   "outputs": [],
   "source": [
    "%matplotlib ipympl\n",
    "import numpy as np\n",
    "import matplotlib.pyplot as plt"
   ]
  },
  {
   "cell_type": "markdown",
   "id": "8eca69a3",
   "metadata": {},
   "source": [
    "### Turbulent velocity profile\n",
    "We will develop a velocity profile in a turbulent flow using *The Law of the Wall*."
   ]
  },
  {
   "cell_type": "code",
   "execution_count": null,
   "id": "3a057cb2",
   "metadata": {},
   "outputs": [],
   "source": [
    "## Variables needed for a turbulent velocity profile\n",
    "\n",
    "rho=1000.\n",
    "g=9.81\n",
    "mu=0.001    #dynamic viscosity of water\n",
    "u_star=0.04    #ustar is shear velocity, but really shear stress expressed in units of velocity\n",
    "z0=0.002    #depth where flow velocity is zero. See A&Apg. 386\n",
    "k=0.4    #vonKarman's constant\n",
    "zt=np.arange(0., 1., 0.01)    #depths for turbulent flow"
   ]
  },
  {
   "cell_type": "code",
   "execution_count": null,
   "id": "de11d9a7",
   "metadata": {},
   "outputs": [],
   "source": [
    "Ut=u_star/k*(np.log(zt/z0))    # equation for vertical velocity profile in a turbulent flow"
   ]
  },
  {
   "cell_type": "code",
   "execution_count": null,
   "id": "e3859259",
   "metadata": {},
   "outputs": [],
   "source": [
    "Utm=u_star/k*(np.log(max(zt)/z0)-1)    #spatial mean velocity of turbulent profile A&Apg388\n",
    "ztm=0.37*max(zt)     #depth of mean velocity, for plotting"
   ]
  },
  {
   "cell_type": "code",
   "execution_count": null,
   "id": "5fab587e",
   "metadata": {},
   "outputs": [],
   "source": [
    "############# plotting turbulent profile\n",
    "plt.figure()\n",
    "plt.plot(Ut, zt, 'k-')\n",
    "plt.plot(Utm, ztm, 'bo')\n",
    "plt.xlabel('velocity (m/s)')\n",
    "plt.ylabel('depth, z (m)')\n",
    "plt.ylim([0,1])\n",
    "plt.title(\"Velocity Profile for Turbulent Flow\")"
   ]
  },
  {
   "cell_type": "markdown",
   "id": "238427da",
   "metadata": {},
   "source": [
    "### Comparing laminar vs. turbulent velocity profiles\n",
    "\n",
    "Now let's plot the laminar velocity profile and turbulent velocity profile on the same figure. First we have to normalize the velocity profiles so that we can see them on the same figure."
   ]
  },
  {
   "cell_type": "code",
   "execution_count": null,
   "id": "be3b1771",
   "metadata": {},
   "outputs": [],
   "source": [
    "# Variables and transformations needed to plot laminar and turbulent velocity profiles on the same figure.\n",
    "\n",
    "S=0.005    #slope for laminar flow\n",
    "H=0.01    #height of laminar flow\n",
    "zl=np.arange(0,0.01, 0.0001)    #depth for laminar\n",
    "\n",
    "Ul=rho*g*S/mu*(H*zl-(zl**2/2))\n",
    "Ulm=rho*g*S/mu*((H**2)/3)    #mean velocity of laminar profile\n",
    "\n",
    "Uln=Ul/Ulm    #laminar profile normalized with mean velocity.zl=np.arange(0,0.01, 0.0001)    #depth for laminar\n",
    "\n",
    "Uln=Ul/Ulm    #laminar profile normalized with mean velocity. \n",
    "Utn=Ut/Utm    #turbulent profile normalized with mean velocity. \n",
    "zln=zl/max(zl)    #normalized laminar depth\n",
    "ztn=zt/max(zt)    #normalized turbulent depth"
   ]
  },
  {
   "cell_type": "code",
   "execution_count": null,
   "id": "2f7240c1",
   "metadata": {
    "scrolled": true
   },
   "outputs": [],
   "source": [
    "plt.figure()\n",
    "plt.plot(Uln, zln, 'b--', label=\"laminar profile\")\n",
    "plt.plot(Utn, ztn, 'k-', label=\"turbulent profile\")\n",
    "plt.xlabel('normalized velocity  (U/U_mean) (m/s)')\n",
    "plt.ylabel('normalized depth, (z/zmax) (m)')\n",
    "plt.title(\"laminar and turbulent velocity profiles\")\n",
    "plt.ylim([0., 1.])\n",
    "plt.legend()"
   ]
  },
  {
   "cell_type": "markdown",
   "id": "cc3fda81",
   "metadata": {},
   "source": [
    "### Plotting turbulent profiles with changes in $u^*$, $z_0$\n",
    "\n",
    "* The variable $u^*$ is the shear velocity and $z_0$ is the roughness height. \n",
    "* $u^*$ is equivalent the basal shear stress, $\\tau_0 = \\rho g H S$\\\n",
    "* $z_0$ is the roughness height. In natural systems, this is equivilent to the size of the rocks on the river bed.\n",
    "\n",
    "Below, we are going to change the values of $u^*$, $z_0$ to see how this changes our velocity profile. "
   ]
  },
  {
   "cell_type": "code",
   "execution_count": null,
   "id": "32e7c2c9",
   "metadata": {},
   "outputs": [],
   "source": [
    "# Ut is the turbulent velocity profile that we calculated above with u* = 0.04 and z_0 = 0.002\n",
    "u_star = 0.04\n",
    "z0 = 0.002\n",
    "Ut=u_star/k*(np.log(zt/z0))    # equation for vertical velocity profile in a turbulent flow"
   ]
  },
  {
   "cell_type": "markdown",
   "id": "0622eab6",
   "metadata": {},
   "source": [
    "### Changing shear velocity\n",
    "In the cell below, let's increase the value of $u^*$, shear velocity. How much are you going to increase this value? What's enough so that you can see a difference in the velocity profile?\n"
   ]
  },
  {
   "cell_type": "code",
   "execution_count": null,
   "id": "54285950",
   "metadata": {},
   "outputs": [],
   "source": [
    "u_star2=0.08\n",
    "Utust=u_star2/k*(np.log(zt/z0))"
   ]
  },
  {
   "cell_type": "code",
   "execution_count": null,
   "id": "d4180103",
   "metadata": {},
   "outputs": [],
   "source": [
    "plt.figure()\n",
    "plt.plot(Ut, zt, 'k-', linewidth=3, label=\"U original (u$^*$=0.04, z$_0$=0.002)\")\n",
    "plt.plot(Utm, ztm, 'bo')\n",
    "plt.plot(Utust, zt, 'b-', linewidth=3, label=\"U(u$^*$ higher, z$_0$=0.002)\")\n",
    "plt.xlim([-0.3, 1.3])\n",
    "plt.xlabel('velocity (m/s)')\n",
    "plt.ylabel('depth, z (m)')\n",
    "plt.ylim([0,1])\n",
    "plt.legend()\n",
    "plt.tight_layout()"
   ]
  },
  {
   "cell_type": "markdown",
   "id": "2c1a1493",
   "metadata": {},
   "source": [
    "### Changing roughness height\n",
    "Now in the cell below, let's set the value of $u^*$ back to the original, and increase the value of $z_0$. What is a reasonable value of $z_0$, recalling that $z_0 = D_{84}/10$? ($D_{84}$ is the largest grain size fraction on the river bed.)\n"
   ]
  },
  {
   "cell_type": "code",
   "execution_count": null,
   "id": "5a0c4cf3",
   "metadata": {},
   "outputs": [],
   "source": [
    "z02=0.2\n",
    "\n",
    "u_star2=0.04\n",
    "zt2=np.arange(0, 1., z02)\n",
    "Utz=u_star/k*(np.log(zt/z02))"
   ]
  },
  {
   "cell_type": "code",
   "execution_count": null,
   "id": "e5e386cf",
   "metadata": {
    "scrolled": true
   },
   "outputs": [],
   "source": [
    "plt.figure()\n",
    "plt.plot(Ut, zt, 'k-', linewidth=3, label=\"U original (u$^*$=0.04, z$_0$=0.002)\")\n",
    "plt.plot(Utm, ztm, 'bo')\n",
    "plt.plot(Utz, zt, 'r-', linewidth=3, label=\"U(u$^*$=0.04, z$_0$=increased)\")\n",
    "plt.xlim([-0.3, 1.3])\n",
    "plt.xlabel('velocity (m/s)')\n",
    "plt.ylabel('depth, z (m)')\n",
    "plt.ylim([0,1])\n",
    "plt.legend()\n",
    "plt.tight_layout()"
   ]
  },
  {
   "cell_type": "markdown",
   "id": "8b9f7331",
   "metadata": {},
   "source": [
    "In the cell below, you can plot all three velocity profiles together. "
   ]
  },
  {
   "cell_type": "code",
   "execution_count": null,
   "id": "dec515e3",
   "metadata": {},
   "outputs": [],
   "source": [
    "plt.figure()\n",
    "plt.plot(Ut, zt, 'k-', linewidth=3, label=\"U original (u$^*$=0.04, z$_0$=0.002)\")\n",
    "plt.plot(Utm, ztm, 'bo')\n",
    "plt.plot(Utz, zt, 'r-', linewidth=3, label=\"U(u$^*$=0.04, z$_0$=increased)\")\n",
    "plt.plot(Utust, zt, 'b-', linewidth=3, label=\"U(u$^*$ higher, z$_0$=0.002)\")\n",
    "\n",
    "plt.xlim([-0.3, 1.3])\n",
    "plt.xlabel('velocity (m/s)')\n",
    "plt.ylabel('depth, z (m)')\n",
    "plt.ylim([0,1])\n",
    "plt.legend()\n",
    "plt.tight_layout()"
   ]
  }
 ],
 "metadata": {
  "kernelspec": {
   "display_name": "Python 3 (ipykernel)",
   "language": "python",
   "name": "python3"
  },
  "language_info": {
   "codemirror_mode": {
    "name": "ipython",
    "version": 3
   },
   "file_extension": ".py",
   "mimetype": "text/x-python",
   "name": "python",
   "nbconvert_exporter": "python",
   "pygments_lexer": "ipython3",
   "version": "3.11.5"
  }
 },
 "nbformat": 4,
 "nbformat_minor": 5
}
