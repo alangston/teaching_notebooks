{
 "cells": [
  {
   "cell_type": "markdown",
   "id": "2a389368",
   "metadata": {},
   "source": [
    "### Derivation of shear stress formula\n",
    "\n",
    "We will aproach the derivation of shear stress from a force balance. \n",
    "\n",
    "Newton's second law of motion: net forces acting on an object is equal to mass times acceleration:\n",
    "\\begin{equation}\n",
    "\\Sigma F = ma\n",
    "\\end{equation}\n",
    "\n",
    "*units*\n",
    "units of mass = kg\n",
    "units of acceleration = m/s$2$\n",
    "\n",
    "Units of force, N, $\\frac{kg m}{s^2}$\n",
    "\n",
    "With a force balance, \n",
    "\\Sigma F = driving forces - resisting forces\n",
    "\n",
    "if the flow is not accelerating (steady flow), $\\Sigma F = 0$; so \n",
    "\\begin{equation}\n",
    "driving forces = resisting forces\n",
    "\\end{equation}\n",
    "\n",
    "\n",
    "### Driving forces\n",
    "Body of water sitting on an inclined plane. Gravity is acting to pull water down slope. But also need units of force. \n",
    "\n",
    "gravity is acceleration, units of $m/s^2$\n",
    "\n",
    "volume of water = H b L\n",
    "\n",
    "density $\\rho$, 1000 kg/m$^3$\n",
    "\n",
    "$\\rho g H L B sin(\\alpha)$      <-- This is units of force\n",
    "\n",
    "### Resisting forces\n",
    "Shear stress, $\\tau$. Shear stress is a force per unit area. Units $\\frac{kg}{ms^2}$ \n",
    "(same as pressure) \n",
    "\n",
    "To get units of force, multiply by area on teh bed: BL\n",
    "\n",
    "\\begin{equation}\n",
    "\\rho g H B L S = \\tau B L\n",
    "\\end{equation}\n",
    "\n",
    "\n",
    "\\begin{equation}\n",
    "\\tau = \\rho g H S\n",
    "\\end{equation}\n",
    " "
   ]
  },
  {
   "cell_type": "markdown",
   "id": "e34249ab",
   "metadata": {},
   "source": [
    "### Shear stress distribution in the flow\n",
    "\n",
    "\\begin{equation}\n",
    "\\tau_z = \\rho g (H-z) S\n",
    "\\end{equation}"
   ]
  },
  {
   "cell_type": "code",
   "execution_count": null,
   "id": "800ef6f7",
   "metadata": {},
   "outputs": [],
   "source": [
    "%matplotlib ipympl\n",
    "import numpy as np\n",
    "import matplotlib.pyplot as plt"
   ]
  },
  {
   "cell_type": "code",
   "execution_count": null,
   "id": "bc5b6df9",
   "metadata": {},
   "outputs": [],
   "source": [
    "z_array = np.arange(0,1,0.05)"
   ]
  },
  {
   "cell_type": "code",
   "execution_count": null,
   "id": "15543946",
   "metadata": {},
   "outputs": [],
   "source": [
    "rho = 1000\n",
    "g = 9.81\n",
    "H = 1\n",
    "S = 0.01"
   ]
  },
  {
   "cell_type": "code",
   "execution_count": null,
   "id": "49121cc4",
   "metadata": {},
   "outputs": [],
   "source": [
    "tau_z = rho*g*(H-z_array)*S\n",
    "print(tau_z)"
   ]
  },
  {
   "cell_type": "code",
   "execution_count": null,
   "id": "c4647e76",
   "metadata": {},
   "outputs": [],
   "source": [
    "plt.figure()\n",
    "plt.scatter(tau_z, z_array)\n",
    "plt.xlabel(r\"shear stress ($\\tau$)\")\n",
    "plt.ylabel(\"depth (z)\")\n",
    "plt.grid()\n"
   ]
  },
  {
   "cell_type": "markdown",
   "id": "08f87dae",
   "metadata": {},
   "source": [
    "### Next, velocity profile in the flow\n",
    "\n",
    "RElate shear stress to velocity via viscosity, $\\mu$\n",
    "\n",
    "$\\tau = \\mu \\frac{d U}{dz} $\n",
    "\n",
    "viscosity, $\\mu$, is a property of *fluids* that describes the reisitance of a fluid to flow. The units of viscosity are in Pa*s, $\\frac{kg}{sm}$\n",
    "\n",
    "$dU/dz$ is rate of change of fluid velocity in z direction, or more simply, rate of change of fluid deformation. \n",
    "\n",
    "If we rearrange the above equation, we see that viscostity, $\\mu$, is a ratio of applied stress ($\\tau$) to resulting shear (deformation):\n",
    "\n",
    "\\begin{equation}\n",
    "\\mu = \\frac{\\tau}{dU/dz}\n",
    "\\end{equation}\n",
    "\n",
    "Here is where the figure with strain rate $dU/dz$ vs. $\\tau$ comes in. viscosity is a straight line for Newtonian fluids. teh (inverse) slope of the line is the viscosity. (inverse slope of line if we plot with shear stress on x axis.)"
   ]
  },
  {
   "cell_type": "code",
   "execution_count": null,
   "id": "960c8a68",
   "metadata": {},
   "outputs": [],
   "source": [
    "tau = np.arange(0, 10, 1)\n",
    "dUdz = np.arange(0,10,1)\n",
    "\n",
    "plt.figure()\n",
    "plt.plot(tau,dUdz, label=\"slope of line - viscosity, $\\mu$\")\n",
    "plt.xlabel(r\"$\\tau$, shear stress\")\n",
    "plt.ylabel(r\"$\\frac{dU}{dz}$, strain rate\")\n",
    "plt.legend()"
   ]
  },
  {
   "cell_type": "markdown",
   "id": "7c5cc75c",
   "metadata": {},
   "source": [
    "back to velocity profile:\n",
    "\n",
    "\\begin{equation}\n",
    "\\tau_z = \\rho g (H-z) S\n",
    "\\end{equation}\n",
    "\n",
    "rewrite $\\tau_z$ in terms of viscosity and strain rate:\n",
    "\n",
    "\\begin{equation}\n",
    "\\mu \\frac{dU}{dz} = \\rho g (H-z) S\n",
    "\\end{equation}\n",
    "\n",
    "\\begin{equation}\n",
    "\\frac{dU}{dz} = \\frac{\\rho g (H-z) S}{\\mu}\n",
    "\\end{equation}\n",
    "\n",
    "In the equation above, on the left hand side, we have $\\frac{dU}{dz}$, or velocity gradient in the z direction. Here we see velocity, $U$, in the correct place if we are looking to solve for velocity, which we are. "
   ]
  },
  {
   "cell_type": "markdown",
   "id": "cc8a3c68",
   "metadata": {},
   "source": [
    "We need to integrate the equation above to sovle for velocity, $U$. We will use the boundary condition of $U$=0 at z = 0. Velocity is zero when height above the bed is zero. This is our *no-slip boundary condition*. \n",
    "\n",
    "\\begin{equation}\n",
    "U_z = \\frac{\\rho g S}{\\mu} (H z - (\\frac{z^2}{2}))\n",
    "\\end{equation}"
   ]
  },
  {
   "cell_type": "code",
   "execution_count": null,
   "id": "941f4ad6",
   "metadata": {},
   "outputs": [],
   "source": [
    "z_dep = np.arange(0,0.01,0.0001)\n",
    "H = 0.01\n",
    "S = 0.01\n",
    "g = 9.81\n",
    "rho = 1000\n",
    "mu = 1e-3\n",
    "\n",
    "U_z = rho*g*S/mu * (H*z_dep - (z_dep**2/2))    #equation for velocity profile in a laminar flow\n",
    "Ulm=rho*g*S/mu*((H**2)/3)    #mean velocity of laminar profile\n"
   ]
  },
  {
   "cell_type": "code",
   "execution_count": null,
   "id": "bd2947a2",
   "metadata": {},
   "outputs": [],
   "source": [
    "plt.figure()\n",
    "plt.plot(U_z,z_dep)\n",
    "plt.ylabel(\"height above the river bed, z (m)\")\n",
    "plt.xlabel(\"velocity (m/s)\")\n",
    "plt.ylim([0,0.01])\n",
    "plt.title(\"Velocity Profile for Laminar Flow\")"
   ]
  }
 ],
 "metadata": {
  "kernelspec": {
   "display_name": "Python 3 (ipykernel)",
   "language": "python",
   "name": "python3"
  },
  "language_info": {
   "codemirror_mode": {
    "name": "ipython",
    "version": 3
   },
   "file_extension": ".py",
   "mimetype": "text/x-python",
   "name": "python",
   "nbconvert_exporter": "python",
   "pygments_lexer": "ipython3",
   "version": "3.11.5"
  }
 },
 "nbformat": 4,
 "nbformat_minor": 5
}
