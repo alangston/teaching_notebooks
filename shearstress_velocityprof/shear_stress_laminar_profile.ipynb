{
 "cells": [
  {
   "cell_type": "markdown",
   "id": "87c86bb6",
   "metadata": {},
   "source": [
    "### Derivation of shear stress formula\n",
    "\n",
    "We will aproach the derivation of shear stress from a force balance on a body of water where flow is assumed to be both *steady* and *uniform*, meaning that the flow is not accelerating or changing going downstream.\n",
    "\n",
    "We apply Newton's second law of motion: net forces acting on an object is equal to mass times acceleration:\n",
    "\\begin{equation}\n",
    "\\Sigma F = ma\n",
    "\\end{equation}\n",
    "\n",
    "\n",
    "* The units of mass = $[kg]$\n",
    "* The units of acceleration = $[m/s^2]$\n",
    "\n",
    "Therefore the unit of force is the Newton, N, which has SI units $[\\frac{kg m}{s^2}]$\n",
    "\n",
    "The sum of forced acting on ourdy of water on an inclined plane is written as: \n",
    "\n",
    "$\\Sigma F = driving forces - resisting forces$\n",
    "\n",
    "When the flow is steady and not accelerating, $\\Sigma F = 0$; so we can write the above equation as:\n",
    "\n",
    "\\begin{equation}\n",
    "driving forces = resisting forces\n",
    "\\end{equation}\n",
    "\n",
    "\n",
    "<div>\n",
    "<img src=\"img/freebody.png\" width=\"500\"/>\n",
    "</div>\n",
    "\n",
    "### Driving forces\n",
    "\n",
    "The driving force acting on this body of water on an included plane is gravity. Gravity is acting to pull the water down slope.\n",
    "\n",
    "Gravity (gravitational acceleration) has units of $[m/s^2]$\n",
    "\n",
    "But this is a force balance, so we need to describe the driving forces in units of force $[\\frac{kg*m}{s^2}]$. \n",
    "\n",
    "The volume of this body of water is H x B x L, the dimensions of the box each with units of length $[m]$. \n",
    "\n",
    "We can get the mass of the body of water from density $\\rho$. The density of water is 1000 $[kg/m^3]$.\n",
    "\n",
    "If we multiply the mass of the body of water by gravitational acceleration, we get the gravitational forces acting on the water.\n",
    "\n",
    "$\\rho g H L B       \n",
    "\n",
    "But recalling that this body of water is resting on an inclined plane, the downslope component of force is \n",
    "\n",
    "\\begin{equation}\n",
    "\\rho g H L B sin(\\alpha)\n",
    "\\end{equation}\n",
    "where $\\alpha$ is the slope angle of the plane.\n",
    "\n",
    "\n",
    "### Resisting forces\n",
    "Shear stress, $\\tau$. Shear stress is a force per unit area. Units $\\frac{kg}{ms^2}$ \n",
    "(same as pressure) \n",
    "\n",
    "To get units of force, multiply by area on teh bed: BL\n",
    "\n",
    "\\begin{equation}\n",
    "\\rho g H B L S = \\tau B L\n",
    "\\end{equation}\n",
    "\n",
    "\n",
    "\\begin{equation}\n",
    "\\tau = \\rho g H S\n",
    "\\end{equation}\n",
    " "
   ]
  },
  {
   "cell_type": "markdown",
   "id": "0c9bb6e6",
   "metadata": {},
   "source": [
    "### Driving forces\n",
    "\n",
    "The driving force acting on this body of water on an included plane is gravity. Gravity is acting to pull the water down slope.\n",
    "\n",
    "Gravity (gravitational acceleration) has units of $[m/s^2]$\n",
    "\n",
    "But this is a force balance, so we need to describe the driving forces in units of force $[\\frac{kg*m}{s^2}]$. \n",
    "\n",
    "The volume of this body of water is H x B x L, the dimensions of the box each with units of length $[m]$. \n",
    "\n",
    "We can get the mass of the body of water from density $\\rho$. The density of water is 1000 $[kg/m^3]$.\n",
    "\n",
    "If we multiply the mass of the body of water by gravitational acceleration, we get the gravitational forces acting on the water.\n",
    "\n",
    "$\\rho g H L B       \n",
    "\n",
    "But recalling that this body of water is resting on an inclined plane, the downslope component of force is \n",
    "\n",
    "\\begin{equation}\n",
    "\\rho g H L B sin(\\alpha)\n",
    "\\end{equation}\n",
    "where $\\alpha$ is the slope angle of the plane.\n",
    "\n",
    " "
   ]
  },
  {
   "cell_type": "markdown",
   "id": "1e8cfc39",
   "metadata": {},
   "source": [
    "### Resisting forces\n",
    "The force that causes the water to resist flow down the plane is the frictional force exerted by the water on the bottom on the bed, represented by the red arrow in the figure above. \n",
    "\n",
    "The frictional force is shear stress, $\\tau_0$. Shear stress has units of force per unit area, $[\\frac{kg}{ms^2}]$. \n",
    "\n",
    "To get units of force, we multiply $\\tau$ by the area of the bed: BL.\n",
    "\n",
    "\\begin{equation}\n",
    "\\tau_0 B L\n",
    "\\end{equation} "
   ]
  },
  {
   "cell_type": "markdown",
   "id": "39bb6162",
   "metadata": {},
   "source": [
    "### Formula for shear stress\n",
    "\n",
    "If we set the driving forces equal to the resisting forces, we get:\n",
    "\n",
    "\\begin{equation}\n",
    "\\rho g H L B sin(\\alpha) = \\tau_0 B L\n",
    "\\end{equation}\n",
    "\n",
    "\n",
    "If we then solve for shear stress at the base of the bed, $\\tau_0$, we get our formula for shear stress:\n",
    "\\begin{equation}\n",
    "\\tau_0 = \\rho g H S\n",
    "\\end{equation}"
   ]
  },
  {
   "cell_type": "markdown",
   "id": "e63ebbb3",
   "metadata": {},
   "source": [
    "### Shear stress distribution in the flow\n",
    "We can find the shear stress (and velocity) at any point in the\n",
    "flow by applying the same force-balancing procedure to a free body of fluid\n",
    "similar to that used above, but with its lower face formed by an imaginary\n",
    "plane a variable distance $z$ above the bottom and parallel to it (see Figure 1 above).\n",
    "\n",
    "\n",
    "$\\tau_z$, the shear stress at any elevation $z$ is given by the force balance:\n",
    "\\begin{equation}\n",
    "\\tau_z = \\rho g (H-z) S\n",
    "\\end{equation}"
   ]
  },
  {
   "cell_type": "markdown",
   "id": "7361a040",
   "metadata": {},
   "source": [
    "Below we can see how we can plot the vertical distribution of shear stress in the flow."
   ]
  },
  {
   "cell_type": "code",
   "execution_count": 1,
   "id": "11c52843",
   "metadata": {},
   "outputs": [],
   "source": [
    "#%matplotlib ipympl\n",
    "import numpy as np\n",
    "import matplotlib.pyplot as plt"
   ]
  },
  {
   "cell_type": "code",
   "execution_count": 2,
   "id": "bb0dcdc4",
   "metadata": {},
   "outputs": [],
   "source": [
    "# depths in the profile where we will calculate shear stress and velocity\n",
    "z_array = np.arange(0,1,0.05)"
   ]
  },
  {
   "cell_type": "code",
   "execution_count": 3,
   "id": "54402995",
   "metadata": {},
   "outputs": [
    {
     "name": "stdout",
     "output_type": "stream",
     "text": [
      "[0.   0.05 0.1  0.15 0.2  0.25 0.3  0.35 0.4  0.45 0.5  0.55 0.6  0.65\n",
      " 0.7  0.75 0.8  0.85 0.9  0.95]\n"
     ]
    }
   ],
   "source": [
    "# Reminder: if you want to see the value of a variable, you can use a print statement.\n",
    "# for example, in this cell, I have typed print(z_arry), and the values in z_array are printed below.\n",
    "print(z_array)"
   ]
  },
  {
   "cell_type": "code",
   "execution_count": 4,
   "id": "3de8ae34",
   "metadata": {},
   "outputs": [],
   "source": [
    "# define other variables needed to calculate shear stress\n",
    "rho = 1000    # density of water in kg/m^3\n",
    "g = 9.81    #gravity, m/s^2\n",
    "H = 1    # flow depth, m\n",
    "S = 0.01    # slope, dimensionless"
   ]
  },
  {
   "cell_type": "code",
   "execution_count": 5,
   "id": "ecfd469d",
   "metadata": {},
   "outputs": [],
   "source": [
    "# In this cell, use the equation above to calculate shear stress, tau, at each point z in the flow.\n",
    "tau_z = rho*g*(H-z_array)*S"
   ]
  },
  {
   "cell_type": "code",
   "execution_count": 6,
   "id": "71a5e0b9",
   "metadata": {
    "scrolled": true
   },
   "outputs": [
    {
     "data": {
      "image/png": "[encoded data removed]",
      "text/plain": [
       "<Figure size 640x480 with 1 Axes>"
      ]
     },
     "metadata": {},
     "output_type": "display_data"
    }
   ],
   "source": [
    "# Now we can plot shear stress vs. height above the channel bed\n",
    "plt.figure()\n",
    "plt.scatter(tau_z, z_array)\n",
    "plt.xlabel(r\"shear stress ($\\tau$)\")\n",
    "plt.ylabel(\"height above the bed (z)\")\n",
    "plt.grid()\n"
   ]
  },
  {
   "cell_type": "markdown",
   "id": "580a922b",
   "metadata": {},
   "source": [
    "### Shear stress distribution\n",
    "Think about the figure above. Does this figure make sense? Where is the highest value of shear stress in the flow? Where is the lowest value of shear stress? "
   ]
  },
  {
   "cell_type": "markdown",
   "id": "e2b9f484",
   "metadata": {},
   "source": [
    "### Next, velocity profile in the flow\n",
    "\n",
    "In order to get to a velocity profile, we have to relate shear stress to velocity via viscosity, $\\mu$. \n",
    "\n",
    "Viscosity. $\\mu$ is a property of *fluids* that describes the resitance of a fluid to flow. Viscosity has units of $[Pa*s]$\n",
    "\n",
    "The relationship between shear stress, viscosity, and velocity is given by:\n",
    "\n",
    "$\\tau = \\mu \\frac{d U}{dz} $\n",
    "\n",
    "$dU/dz$ is rate of change of fluid velocity in z direction, or more simply, rate of change of fluid deformation. \n",
    "\n",
    "If we rearrange the above equation, we see that viscostity, $\\mu$, is a ratio of applied stress ($\\tau$) to resulting shear (deformation):\n",
    "\n",
    "\\begin{equation}\n",
    "\\mu = \\frac{\\tau}{dU/dz}\n",
    "\\end{equation}\n",
    "\n",
    "Here is where the figure with strain rate $dU/dz$ vs. $\\tau$ comes in. viscosity is a straight line for Newtonian fluids. The (inverse) slope of the line is the viscosity. (inverse slope of line if we plot with shear stress on x axis.)"
   ]
  },
  {
   "cell_type": "code",
   "execution_count": 7,
   "id": "fb10ccd0",
   "metadata": {},
   "outputs": [
    {
     "data": {
      "text/plain": [
       "<matplotlib.legend.Legend at 0x1952074ee10>"
      ]
     },
     "execution_count": 7,
     "metadata": {},
     "output_type": "execute_result"
    },
    {
     "data": {
      "image/png": "[encoded data removed]",
      "text/plain": [
       "<Figure size 640x480 with 1 Axes>"
      ]
     },
     "metadata": {},
     "output_type": "display_data"
    }
   ],
   "source": [
    "# This cell plots the relationship between shear stress and deformation rate for Newtonian fluids.\n",
    "tau = np.arange(0, 10, 1)\n",
    "dUdz = np.arange(0,10,1)\n",
    "\n",
    "plt.figure()\n",
    "plt.plot(tau,dUdz, label=\"slope of line - viscosity, $\\mu$\")\n",
    "plt.xlabel(r\"$\\tau$, shear stress\")\n",
    "plt.ylabel(r\"$\\frac{dU}{dz}$, strain rate\")\n",
    "plt.legend()"
   ]
  },
  {
   "cell_type": "markdown",
   "id": "6bdc5ce5",
   "metadata": {},
   "source": [
    "### Back to velocity profile:\n",
    "\n",
    "\\begin{equation}\n",
    "\\tau_z = \\rho g (H-z) S\n",
    "\\end{equation}\n",
    "\n",
    "rewrite $\\tau_z$ in terms of viscosity and strain rate:\n",
    "\n",
    "\\begin{equation}\n",
    "\\mu \\frac{dU}{dz} = \\rho g (H-z) S\n",
    "\\end{equation}\n",
    "\n",
    "\\begin{equation}\n",
    "\\frac{dU}{dz} = \\frac{\\rho g (H-z) S}{\\mu}\n",
    "\\end{equation}\n",
    "\n",
    "In the equation above, on the left hand side, we have $\\frac{dU}{dz}$, or velocity gradient in the z direction. Here we see velocity, $U$, in the correct place if we are looking to solve for velocity, which we are. "
   ]
  },
  {
   "cell_type": "markdown",
   "id": "9b915d34",
   "metadata": {},
   "source": [
    "We need to integrate the equation above to sovle for velocity, $U$. We will use the boundary condition of $U$=0 at z = 0. Velocity is zero when height above the bed is zero. This is our *no-slip boundary condition*. \n",
    "\n",
    "The final equation for velocity $U$ at any point $z$ in a flow is:\n",
    "\n",
    "\\begin{equation}\n",
    "U_z = \\frac{\\rho g S}{\\mu} \\left(H z - \\left(\\frac{z^2}{2}\\right)\\right)\n",
    "\\end{equation}\n",
    "\n",
    "where $H$ is the total flow depth and $z$ is the depth where velocity is being evaluated."
   ]
  },
  {
   "cell_type": "markdown",
   "id": "5bea446a",
   "metadata": {},
   "source": [
    "If we want to find the *mean* velocity in the vertical profile, we can use:\n",
    "\n",
    "\\begin{equation}\n",
    "\\bar U = \\left (\\frac{\\rho g S}{\\mu}\\frac{H^2}{3} \\right)\n",
    "\\end{equation}"
   ]
  },
  {
   "cell_type": "code",
   "execution_count": 14,
   "id": "a9735a71",
   "metadata": {},
   "outputs": [],
   "source": [
    "# in this cell we can plot the velocity profile\n",
    "z_dep = np.arange(0,0.01,0.0005) #depths in the profile where we calculate velocity\n",
    "H = 0.01   #flow depth, m\n",
    "S = 0.01    #slope, dimensionless\n",
    "g = 9.81    #gravity m/s^2\n",
    "rho = 1000    #density, kg/m^3\n",
    "mu = 1e-3    #viscosity, Pa*s\n",
    "\n",
    "U_z = rho*g*S/mu * (H*z_dep - (z_dep**2/2))    #equation for velocity profile in a laminar flow"
   ]
  },
  {
   "cell_type": "code",
   "execution_count": 15,
   "id": "f4706dc5",
   "metadata": {},
   "outputs": [
    {
     "data": {
      "text/plain": [
       "Text(0.5, 1.0, 'Velocity Profile for Laminar Flow')"
      ]
     },
     "execution_count": 15,
     "metadata": {},
     "output_type": "execute_result"
    },
    {
     "data": {
      "image/png": "[encoded data removed]",
      "text/plain": [
       "<Figure size 640x480 with 1 Axes>"
      ]
     },
     "metadata": {},
     "output_type": "display_data"
    }
   ],
   "source": [
    "plt.figure()\n",
    "plt.plot(U_z,z_dep, \"b.\")\n",
    "plt.ylabel(\"height above the river bed, z (m)\")\n",
    "plt.xlabel(\"velocity (m/s)\")\n",
    "plt.ylim([0,0.01])\n",
    "plt.title(\"Velocity Profile for Laminar Flow\")"
   ]
  }
 ],
 "metadata": {
  "kernelspec": {
   "display_name": "Python 3 (ipykernel)",
   "language": "python",
   "name": "python3"
  },
  "language_info": {
   "codemirror_mode": {
    "name": "ipython",
    "version": 3
   },
   "file_extension": ".py",
   "mimetype": "text/x-python",
   "name": "python",
   "nbconvert_exporter": "python",
   "pygments_lexer": "ipython3",
   "version": "3.11.5"
  }
 },
 "nbformat": 4,
 "nbformat_minor": 5
}
