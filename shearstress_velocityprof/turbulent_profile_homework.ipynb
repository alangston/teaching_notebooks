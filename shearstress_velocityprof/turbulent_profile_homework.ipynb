{
 "cells": [
  {
   "cell_type": "markdown",
   "id": "1cb1bf7f",
   "metadata": {},
   "source": [
    "## Turbulent velocity profiles\n",
    "We will develop a velocity profile in a turbulent flow using *The Law of the Wall*. We will also change the values of $u^*$ and $z_0$ and observe how these changes impact flow velocity."
   ]
  },
  {
   "cell_type": "code",
   "execution_count": null,
   "id": "4f187fa1",
   "metadata": {},
   "outputs": [],
   "source": [
    "#Note, if you get an error running this cell, you can put a # at the beginning of the first line. \n",
    "# The # will deactivate the command that was causing some people to have errors during class.\n",
    "%matplotlib ipympl\n",
    "import numpy as np\n",
    "import matplotlib.pyplot as plt"
   ]
  },
  {
   "cell_type": "code",
   "execution_count": null,
   "id": "9893ef93",
   "metadata": {},
   "outputs": [],
   "source": [
    "## Variables needed for a turbulent velocity profile\n",
    "\n",
    "rho=1000.    #density of water, kg/m^3\n",
    "g=9.81    #gravity, m/s^2\n",
    "mu=0.001    #viscosity of water, Pa*s\n",
    "k=0.4    #vonKarman's constant, dimensionless\n",
    "zt=np.arange(0., 1., 0.02)    #50 depths, z, ranging from 0 to 1 that we will use for plotting velocity"
   ]
  },
  {
   "cell_type": "markdown",
   "id": "9b56f1c2",
   "metadata": {},
   "source": [
    "### Defining $u^*$\n",
    "Recall that $u^*$, shear velocity, is a quantity that describes shear stress in units of $[m/s]$. \n",
    "\n",
    "\\begin{equation}\n",
    "u^* = \\sqrt{\\frac{\\tau_0}{\\rho}}\n",
    "\\end{equation}\n",
    "\n",
    "Below, $u^*$ is set to 0.03, assuming a flow depth of 1 m and a slope of 0.0001. "
   ]
  },
  {
   "cell_type": "code",
   "execution_count": null,
   "id": "725b737a",
   "metadata": {},
   "outputs": [],
   "source": [
    "u_star=0.03    #ustar is shear velocity, but really shear stress expressed in units of velocity, m/s"
   ]
  },
  {
   "cell_type": "markdown",
   "id": "14ff083f",
   "metadata": {},
   "source": [
    "### Defining roughness height, $z_0$\n",
    "In natural systems, Nikuradse's roughness, $z_0$, is approximated by \n",
    "\n",
    "\\begin{equation}\n",
    "z_0 = D_{84}/10\n",
    "\\end{equation}\n",
    "\n",
    "where $D_{84}$ is the diameter of the largest sediment grains on the river bed."
   ]
  },
  {
   "cell_type": "markdown",
   "id": "04d6a152",
   "metadata": {},
   "source": [
    "## Homework Question:\n",
    "* What is the value of $z_0$ assuming the $D_{84}$ grain size is 180 mm?\n",
    "\n",
    "* In the cell below, enter the value of $z_0$."
   ]
  },
  {
   "cell_type": "code",
   "execution_count": null,
   "id": "291c1413",
   "metadata": {},
   "outputs": [],
   "source": [
    "# enter your calculated value of z0 in the line below\n",
    "# z0 is the depth where flow velocity approaches zero in a turbulent flow\n",
    "z0=    "
   ]
  },
  {
   "cell_type": "code",
   "execution_count": null,
   "id": "fbd12509",
   "metadata": {},
   "outputs": [],
   "source": [
    "Ut=u_star/k*(np.log(zt/z0))    # equation for vertical velocity profile in a turbulent flow"
   ]
  },
  {
   "cell_type": "code",
   "execution_count": null,
   "id": "9471d2e7",
   "metadata": {},
   "outputs": [],
   "source": [
    "Utm=u_star/k*(np.log(max(zt)/z0)-1)    #spatial mean velocity of turbulent profile A&Apg388\n",
    "ztm=0.37*max(zt)     #depth of mean velocity, for plotting"
   ]
  },
  {
   "cell_type": "code",
   "execution_count": null,
   "id": "4ad61902",
   "metadata": {},
   "outputs": [],
   "source": [
    "############# plotting turbulent profile\n",
    "plt.figure()\n",
    "plt.plot(Ut, zt, 'k-', label=\"velocity, $u^*$ =\" +str(u_star)+\" $z_0$ = \"+ str(z0))\n",
    "plt.plot(Utm, ztm, 'bo', label=\"mean velocity\")\n",
    "plt.xlabel('velocity (m/s)')\n",
    "plt.ylabel('depth, z (m)')\n",
    "plt.ylim([0,1])\n",
    "plt.xlim([-0.1,1])\n",
    "plt.title(\"Velocity Profile for Turbulent Flow\")\n",
    "plt.legend(loc=4)"
   ]
  },
  {
   "cell_type": "markdown",
   "id": "5d1a2635",
   "metadata": {},
   "source": [
    "## Homework Question\n",
    "\n",
    "Use the figure above to answer these questions for the case where $u^*$ = 0.03 and $z_0$ is set assuming a $D_{84}$ = 180 mm: \n",
    "\n",
    "* What is the maximum flow velocity? \n",
    "\n",
    "* What is the mean flow velocity?\n",
    "\n",
    "* Include an image of the figure above in your homework assignment."
   ]
  },
  {
   "cell_type": "markdown",
   "id": "f92d8ae9",
   "metadata": {},
   "source": [
    "### Plotting turbulent profiles with changes in $u^*$\n",
    "\n",
    "Let's say that in our river, slope has increased from 0.0001 to 0.0005 and flow depth is unchanged. This would result in $u^*$ = 0.07.\n",
    "\n",
    "In the cell below, set the variable `u_star_new` to 0.07."
   ]
  },
  {
   "cell_type": "code",
   "execution_count": null,
   "id": "5077c7b6",
   "metadata": {
    "scrolled": true
   },
   "outputs": [],
   "source": [
    "# Ut_new is the turbulent velocity profile that we calculate with u* = 0.07\n",
    "u_star_new = 0.07\n",
    "Ut_new=u_star_new/k*(np.log(zt/z0))    # equation for vertical velocity profile in a turbulent flow"
   ]
  },
  {
   "cell_type": "code",
   "execution_count": null,
   "id": "0badbcbd",
   "metadata": {},
   "outputs": [],
   "source": [
    "plt.figure()\n",
    "plt.plot(Ut, zt, 'k-', linewidth=3, label=\"original, $u^*$ =\" +str(u_star)+\" $z_0$ = \"+ str(z0))\n",
    "plt.plot(Utm, ztm, 'bo')\n",
    "plt.plot(Ut_new, zt, color = 'magenta', linewidth=3, label=\"velocity, $u^*$ =\" +str(u_star_new)+\" $z_0$ = \"+ str(z0))\n",
    "plt.xlabel('velocity (m/s)')\n",
    "plt.ylabel('depth, z (m)')\n",
    "plt.ylim([0,1])\n",
    "plt.xlim([-0.1,1])\n",
    "plt.title(\"Velocity Profiles for Turbulent Flow\")\n",
    "plt.legend()\n",
    "plt.tight_layout()"
   ]
  },
  {
   "cell_type": "markdown",
   "id": "94c14943",
   "metadata": {},
   "source": [
    "## Homework Question\n",
    "\n",
    "Use the figure above to answer these questions for the case where $u^*$ has increased from 0.03 to 0.07 and $z_0$ is unchanged.\n",
    "\n",
    "* How has the velocity of the flow changed with the change in $u^*$? (One sentence, give numbers to support your answer.)\n",
    "\n",
    "* Explain how the change in velocity shown in the figure can happen in a real stream with the change in $u^*$. (One sentence.) \n",
    "\n",
    "* Include an image of the figure above in your homework assignment."
   ]
  },
  {
   "cell_type": "markdown",
   "id": "c6321a23",
   "metadata": {},
   "source": [
    "### Changing roughness height\n",
    "In the cell below, we have set the value of $u^*$ back to the original value of 0.03. \n",
    "\n",
    "Now we will change the value of $z_0$. The original value of $z_0$ was calculated based on a $D_{84}$ grain size of 180 mm. \n",
    "\n",
    "## Homework Question:\n",
    "**Now let's say that our $D_{84}$ grain size is 22 mm.** \n",
    "\n",
    "* What is the new of $z_0$, recalling that $z_0 = D_{84}/10$? \n",
    "* In the cell below, enter the value of $z_0$.\n"
   ]
  },
  {
   "cell_type": "code",
   "execution_count": null,
   "id": "db62a500",
   "metadata": {},
   "outputs": [],
   "source": [
    "# enter your new calculated value of z0 in the line below\n",
    "# z0 is the depth where flow velocity approaches zero in a turbulent flow\n",
    "\n",
    "z0_new = "
   ]
  },
  {
   "cell_type": "code",
   "execution_count": null,
   "id": "6d80096c",
   "metadata": {},
   "outputs": [],
   "source": [
    "# This cell, reset u_star to original value and calculate new velocity profile\n",
    "u_star = 0.03\n",
    "Ut_new2=u_star/k*(np.log(zt/z0_new))"
   ]
  },
  {
   "cell_type": "code",
   "execution_count": null,
   "id": "1feb8c05",
   "metadata": {
    "scrolled": false
   },
   "outputs": [],
   "source": [
    "## This cell plots the original velocity profile and the new profile with changed z0\n",
    "plt.figure()\n",
    "plt.plot(Ut, zt, 'k-', linewidth=3, label=\"original, $u^*$ =\" +str(u_star)+\" $z_0$ = \"+ str(z0))\n",
    "plt.plot(Utm, ztm, 'bo')\n",
    "plt.plot(Ut_new2, zt, 'c-', linewidth=3, label=\"velocity, $u^*$ =\" +str(u_star)+\" $z_0$ = \"+ str(z0_new))\n",
    "\n",
    "plt.xlabel('velocity (m/s)')\n",
    "plt.ylabel('depth, z (m)')\n",
    "plt.title(\"Velocity Profile for Turbulent Flow\")\n",
    "plt.xlim([-0.1,1])\n",
    "plt.ylim([0,1])\n",
    "plt.legend()\n",
    "plt.tight_layout()"
   ]
  },
  {
   "cell_type": "markdown",
   "id": "98e0eefd",
   "metadata": {},
   "source": [
    "## Homework Question\n",
    "\n",
    "Use the figure above to answer these questions for the case where $u^*$ = 0.03 and $z_0$ is set assuming a $D_84$ = 22 mm: \n",
    "\n",
    "* What is the maximum flow velocity with the **new** roughness height, $z_0$? \n",
    "\n",
    "* Explain why the change in velocity shown in the figure happens in a real stream with the change in roughness height, $z_0$. (Remember the change in roughness height is because sediment grain size changed from 180 mm to 22 mm. One sentence to answer.) \n",
    "\n",
    "* Include an image of the figure above in your homework assignment."
   ]
  },
  {
   "cell_type": "markdown",
   "id": "f06568a4",
   "metadata": {},
   "source": [
    "### Figure with all profiles\n",
    "In the cell below, you can plot all three velocity profiles together. This figure is just for your reference."
   ]
  },
  {
   "cell_type": "code",
   "execution_count": null,
   "id": "95f1ab64",
   "metadata": {
    "scrolled": true
   },
   "outputs": [],
   "source": [
    "plt.figure()\n",
    "plt.plot(Ut, zt, 'k-', linewidth=3, label=\"original, $u^*$ =\" +str(u_star)+\" $z_0$ = \"+ str(z0))\n",
    "plt.plot(Utm, ztm, 'bo')\n",
    "plt.plot(Ut_new2, zt, 'b-', linewidth=3, label=\"velocity, $u^*$ =\" +str(u_star)+\" $z_0$ = \"+ str(z0_new))\n",
    "plt.plot(Ut_new, zt, color = 'magenta', linewidth=3, label=\"velocity, $u^*$ =\" +str(u_star_new)+\" $z_0$ = \"+ str(z0))\n",
    "\n",
    "plt.xlim([-0.1, 1.0])\n",
    "plt.xlabel('velocity (m/s)')\n",
    "plt.ylabel('depth, z (m)')\n",
    "plt.ylim([0,1])\n",
    "plt.title(\"Velocity Profile for Turbulent Flow\")\n",
    "plt.legend(loc=4)\n",
    "plt.tight_layout()"
   ]
  }
 ],
 "metadata": {
  "kernelspec": {
   "display_name": "Python 3 (ipykernel)",
   "language": "python",
   "name": "python3"
  },
  "language_info": {
   "codemirror_mode": {
    "name": "ipython",
    "version": 3
   },
   "file_extension": ".py",
   "mimetype": "text/x-python",
   "name": "python",
   "nbconvert_exporter": "python",
   "pygments_lexer": "ipython3",
   "version": "3.11.5"
  }
 },
 "nbformat": 4,
 "nbformat_minor": 5
}
