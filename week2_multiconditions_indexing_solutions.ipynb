{
 "cells": [
  {
   "cell_type": "markdown",
   "metadata": {},
   "source": [
    "### Conditional Statements With Combinations of Conditions\n",
    "Logical operators (e.g. `and`, `or`, `not`) allow you to create conditional statements that can check for combinations of conditions. You can use:\n",
    "\n",
    "* `and` to execute code if all specified conditions have been met\n",
    "* `or` to execute code if at least one specified condition has been met\n",
    "* `not` to execute code only if the specified condition has not been met (note that you can use not in combination with and or or to check whether multiple conditions are not met)\n",
    "\n",
    "#### Check For Two Conditions Using `and`\n",
    "You can check for multiple conditions by including `and` between two conditions.\n",
    "\n",
    "Both conditions have to be satisfied in order for the code provided with the `if` statement to be executed.\n",
    "\n",
    "This means that if one condition is not satisfied, then the conditional statement executes the code provided with `else`.\n",
    "\n",
    "***\n",
    "\n",
    "<code># Check that both conditions are true\n",
    "if condition1 and condition2:\n",
    "    print(\"Conditions 1 and 2 are both true.\")\n",
    "else:\n",
    "    print(\"One condition (either 1 or 2) is not true.\")\n",
    "</code>\n",
    "\n",
    "#### Check For At Least One Condition Using `or`\n",
    "You can also write conditional statements that check whether at least one condition is true by including `or` between two conditions.\n",
    "\n",
    "Only one condition has to pass in order for the conditional statement to execute code provided with `if`.\n",
    "***\n",
    "\n",
    "<code># Check that at least one condition is true\n",
    "if condition1 or condition2:\n",
    "    print(\"Either condition 1 or 2 is true.\")\n",
    "else:\n",
    "    print(\"Neither of these conditions is true.\")\n",
    "</code>\n",
    "\n",
    "Let's try using these conditional statements with multiple conditions with the for loop we used above. \n",
    "Make a copy of the for loop above where we changed elevation over 500 years.\n",
    "\n",
    "Modify the for loop to do the following:\n",
    "1. If `i` is greater than 200 `and` elevation is greater than 0.3, make a print statement stating conditions met AND reduce uplift rate by half.\n",
    "2. If `i` is greater than 200 `or` elevation is greater than 0.3, make a print statement stating conditions met AND reduce uplift rate by half."
   ]
  },
  {
   "cell_type": "code",
   "execution_count": 1,
   "metadata": {},
   "outputs": [
    {
     "name": "stdout",
     "output_type": "stream",
     "text": [
      "i =  0\n",
      "elevation =  0.0\n",
      "\n",
      "i =  50\n",
      "elevation =  0.05\n",
      "\n",
      "i =  100\n",
      "elevation =  0.1\n",
      "\n",
      "i =  150\n",
      "elevation =  0.15000000000000002\n",
      "\n",
      "i =  200\n",
      "elevation =  0.2\n",
      "\n",
      "i =  250\n",
      "elevation =  0.25\n",
      "\n",
      "i =  300\n",
      "elevation =  0.3\n",
      "\n",
      "i =  350\n",
      "both conditions i > 200, elevation > 0.3 are met\n",
      "elevation =  0.35\n",
      "\n",
      "i =  400\n",
      "both conditions i > 200, elevation > 0.3 are met\n",
      "elevation =  0.375\n",
      "\n",
      "i =  450\n",
      "both conditions i > 200, elevation > 0.3 are met\n",
      "elevation =  0.4\n",
      "\n",
      "i =  500\n",
      "both conditions i > 200, elevation > 0.3 are met\n",
      "elevation =  0.42500000000000004\n",
      "\n"
     ]
    }
   ],
   "source": [
    "# simple example using \"and\"\n",
    "import numpy as np\n",
    "elevation = 0.\n",
    "uplift_rate_init = 0.001   # uplift rate in units, mm/year \n",
    "dt = 50    #time step size in years\n",
    "time = np.arange(0,501,dt)# time steps in years\n",
    "for i in time:\n",
    "    print(\"i = \", i)\n",
    "    if i > 200 and elevation > 0.3:\n",
    "        print(\"both conditions i > 200, elevation > 0.3 are met\")\n",
    "        uplift_rate = uplift_rate_init/2        \n",
    "    else:\n",
    "        uplift_rate = uplift_rate_init\n",
    "    #print(\"uplift rate \", uplift_rate)\n",
    "    print(\"elevation = \", elevation)\n",
    "    print(\"\")\n",
    "    elevation += uplift_rate*dt"
   ]
  },
  {
   "cell_type": "code",
   "execution_count": null,
   "metadata": {},
   "outputs": [],
   "source": [
    "# simple example using \"or\"\n",
    "elevation = 0.\n",
    "uplift_rate_init = 0.001   # uplift rate in units, mm/year \n",
    "dt = 50    #time step size in years\n",
    "time = np.arange(0,501,dt)# time steps in years\n",
    "for i in time:\n",
    "    print(\"i = \", i)\n",
    "    if i > 200 or elevation > 0.3:\n",
    "        print(\"either condition i > 200 OR elevation > 0.3 is met\")\n",
    "        uplift_rate = uplift_rate_init/2        \n",
    "    else:\n",
    "        uplift_rate = uplift_rate_init\n",
    "    #print(\"uplift rate \", uplift_rate)\n",
    "    print(\"elevation = \", elevation)\n",
    "    print(\"\")\n",
    "    elevation += uplift_rate*dt"
   ]
  },
  {
   "cell_type": "markdown",
   "metadata": {},
   "source": [
    "### Conditional statements on arrays\n",
    "\n",
    "Remember this important piece of information from above when we introduced `if`/`else` statements: If the condition provided with the `if` statement is satisfied (i.e. results in a value of `True`), then a certain code will execute. If that condition is not met (i.e. results in a value of `False`), then the code provided with the `else` statement will execute.\n",
    "\n",
    "The conditional statements we've practiced above with `if`/`else` and multiple conditions with 'and', 'or', 'not' evaluate whether a statement is `True` or `False` regarding single variables, NOT arrays. We have to deal with arrays differently.\n",
    "\n",
    "Let's look at how to evaluate conditions in arrays with the very important function `np.where()`. The documentation for `np.where()` isn't straightforward, so here's the summary: \n",
    "```\n",
    "numpy.where(some_condition on an array)\n",
    "```\n",
    "Returns indexes in the array where `some_condition` is `True`.\n",
    "\n",
    "Let's look at some examples. Load the long profile data from last time. Find the following indexes (locations) using `np.where()`:\n",
    "1. Find where z_elev > 400.\n",
    "2. Find where z_elev < 600.\n",
    "3. Find where z_elev less than 300 AND greater than 200"
   ]
  },
  {
   "cell_type": "code",
   "execution_count": 11,
   "metadata": {},
   "outputs": [
    {
     "name": "stdout",
     "output_type": "stream",
     "text": [
      "[ 0  1  2  3  4  5  6  7  8  9 10 11 12 13 14 15 16 17 18 19 20 21 22 23\n",
      " 24 25 26 27 28 29 30 31 32 33 34 35 36 37 38 39 40 41 42 43 44 45 46 47\n",
      " 48 49 50]\n"
     ]
    }
   ],
   "source": [
    "fileloc = \"data/\"\n",
    "buff_data = np.loadtxt(fileloc+\"buff_long_prof.txt\")\n",
    "x_dist = buff_data[:,0]\n",
    "z_elev = buff_data[:,1]\n",
    "\n",
    "idx1 = np.where(z_elev>400)[0]\n",
    "print(idx1)"
   ]
  },
  {
   "cell_type": "code",
   "execution_count": 12,
   "metadata": {},
   "outputs": [
    {
     "name": "stdout",
     "output_type": "stream",
     "text": [
      "[151 152 153 154 155 156]\n"
     ]
    }
   ],
   "source": [
    "idx2 = np.where(z_elev<200)[0]\n",
    "print(idx2)"
   ]
  },
  {
   "cell_type": "code",
   "execution_count": 8,
   "metadata": {},
   "outputs": [
    {
     "ename": "ValueError",
     "evalue": "The truth value of an array with more than one element is ambiguous. Use a.any() or a.all()",
     "output_type": "error",
     "traceback": [
      "\u001b[1;31m---------------------------------------------------------------------------\u001b[0m",
      "\u001b[1;31mValueError\u001b[0m                                Traceback (most recent call last)",
      "\u001b[1;32m<ipython-input-8-0dcd25e2d335>\u001b[0m in \u001b[0;36m<module>\u001b[1;34m\u001b[0m\n\u001b[1;32m----> 1\u001b[1;33m \u001b[0midx3\u001b[0m \u001b[1;33m=\u001b[0m \u001b[0mnp\u001b[0m\u001b[1;33m.\u001b[0m\u001b[0mwhere\u001b[0m\u001b[1;33m(\u001b[0m\u001b[0mz_elev\u001b[0m\u001b[1;33m<\u001b[0m\u001b[1;36m300\u001b[0m \u001b[1;32mand\u001b[0m \u001b[0mz_elev\u001b[0m \u001b[1;33m>\u001b[0m \u001b[1;36m200\u001b[0m\u001b[1;33m)\u001b[0m\u001b[1;33m[\u001b[0m\u001b[1;36m0\u001b[0m\u001b[1;33m]\u001b[0m\u001b[1;33m\u001b[0m\u001b[1;33m\u001b[0m\u001b[0m\n\u001b[0m\u001b[0;32m      2\u001b[0m \u001b[0mprint\u001b[0m\u001b[1;33m(\u001b[0m\u001b[0midx3\u001b[0m\u001b[1;33m)\u001b[0m\u001b[1;33m\u001b[0m\u001b[1;33m\u001b[0m\u001b[0m\n",
      "\u001b[1;31mValueError\u001b[0m: The truth value of an array with more than one element is ambiguous. Use a.any() or a.all()"
     ]
    }
   ],
   "source": [
    "idx3 = np.where(z_elev<300 and z_elev > 200)[0]\n",
    "print(idx3)"
   ]
  },
  {
   "cell_type": "markdown",
   "metadata": {},
   "source": [
    "Using `and` in the code block above doesn't work because `and` evaluates if two conditions are `True`. Let's look at the two different conditions in `np.where(z_elev<300 and z_elev > 200)` individually. \n",
    "\n",
    "**Try This:**\n",
    "Enter `z_elev<300` and `z_elev > 200` into the terminal window. The output is two arrays of `True` and `False`, but `and` only works when evaluating a single instances of `True` and `False`.\n",
    "\n",
    "Instead of `and` or `or` to evaluate multiple conditions on numpy arrays, we use the functions `np.logical_and()` or `np.logical_or`. See examples of syntax below."
   ]
  },
  {
   "cell_type": "code",
   "execution_count": 14,
   "metadata": {},
   "outputs": [
    {
     "name": "stdout",
     "output_type": "stream",
     "text": [
      "[101 102 103 104 105 106 107 108 109 110 111 112 113 114 115 116 117 118\n",
      " 119 120 121 122 123 124 125 126 127 128 129 130 131 132 133 134 135 136\n",
      " 137 138 139 140 141 142 143 144 145 146 147 148 149 150]\n"
     ]
    }
   ],
   "source": [
    "idx3 = np.where(np.logical_and(z_elev<300, z_elev > 200))[0]\n",
    "print(idx3)"
   ]
  },
  {
   "cell_type": "code",
   "execution_count": 15,
   "metadata": {},
   "outputs": [
    {
     "name": "stdout",
     "output_type": "stream",
     "text": [
      "[  0   1   2   3   4   5   6   7   8   9  10  11  12  13  14  15  16  17\n",
      "  18  19  20  21  22  23  24  25 151 152 153 154 155 156]\n"
     ]
    }
   ],
   "source": [
    "idx4 = np.where(np.logical_or(z_elev>450, z_elev < 200))[0]\n",
    "print(idx4)"
   ]
  },
  {
   "cell_type": "markdown",
   "metadata": {},
   "source": [
    "Now let's plot this long profile data again. \n",
    "1. First plot the entire data set.\n",
    "2. Next plot only the data points where z_elevation is less than 300 *and* greater than 200. "
   ]
  },
  {
   "cell_type": "code",
   "execution_count": 16,
   "metadata": {},
   "outputs": [
    {
     "data": {
      "text/plain": [
       "<matplotlib.collections.PathCollection at 0x221c62c9208>"
      ]
     },
     "execution_count": 16,
     "metadata": {},
     "output_type": "execute_result"
    },
    {
     "data": {
      "image/png": "[encoded data removed]",
      "text/plain": [
       "<Figure size 504x432 with 1 Axes>"
      ]
     },
     "metadata": {
      "needs_background": "light"
     },
     "output_type": "display_data"
    }
   ],
   "source": [
    "import matplotlib.pyplot as plt\n",
    "plt.figure(figsize=(7,6))\n",
    "plt.scatter(x_dist, z_elev)\n",
    "plt.scatter(x_dist[idx3],z_elev[idx3], c='violet')\n",
    "#plt.scatter(x_dist[idx4],z_elev[idx4], c='lightgreen')"
   ]
  }
 ],
 "metadata": {
  "kernelspec": {
   "display_name": "Python 3",
   "language": "python",
   "name": "python3"
  },
  "language_info": {
   "codemirror_mode": {
    "name": "ipython",
    "version": 3
   },
   "file_extension": ".py",
   "mimetype": "text/x-python",
   "name": "python",
   "nbconvert_exporter": "python",
   "pygments_lexer": "ipython3",
   "version": "3.7.9"
  }
 },
 "nbformat": 4,
 "nbformat_minor": 5
}
