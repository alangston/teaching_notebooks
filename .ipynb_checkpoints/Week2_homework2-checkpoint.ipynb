{
 "cells": [
  {
   "cell_type": "markdown",
   "metadata": {},
   "source": [
    "## Slope-area Question\n",
    "```\n",
    "fileloc = \"data/\"\n",
    "sa_data = np.loadtxt(fileloc+\"large_slope_area.txt\")\n",
    "```\n",
    "now you're working with a different, combined slope area data set with areas in column1, slopes in column 2, and a watershed code that ranges from 1 - 3 in column 3. This watershed code tells you that the slope area data comes from three different watersheds. \n",
    "\n",
    "1. Write a **function** with the following:\n",
    "    * has a description of the inputs, calculations, and return variables of your function\n",
    "    * takes the entire large dataset as an input\n",
    "    * your function can have additional, optional inputs\n",
    "    * the function should remove values of zero from the slope array.\n",
    "    * the function should return an array of slope and an array of area for an individual watershed that are ready to be input to a scatter plot\n",
    "\n",
    "2. Plot the data\n",
    "    * use the command `np.scatter()` to plot the data, not `np.loglog()` like last week in the homework.\n",
    "    * use the command `plt.yscale('log')` to make log axes\n",
    "    * plot each data set from different watersheds with different color and marker combinations.\n",
    "    * Add axes labels, a title, and a legend\n",
    "3. Plot data, part 2\n",
    "    * you notice that the data set with watershed code 2 has some slope values that don't follow the same trend as the rest of the data between area = 2.5 - 10. Plot this subset of data in a different color so that now you have a figure with 4 different colors and symbols. Include axes labels, a title, and a legend (always include these)."
   ]
  },
  {
   "cell_type": "markdown",
   "metadata": {},
   "source": [
    "## Longitunal Profile Question\n",
    "\n",
    "You will be working with the same longitudinal profile data as last week\n",
    "```\n",
    "buff_data = np.loadtxt(fileloc+\"buff_long_prof.txt\")\n",
    "\n",
    "x_dist = buff_data[:,0]\n",
    "z_elev = buff_data[:,1]\n",
    "```\n",
    "\n",
    "and a new data set that contains the elevations of 23 field locations you visited along this longitudinal profile. \n",
    "```\n",
    "sample_elevs = np.loadtxt(fileloc+\"samplelocs_elev2.csv\", skiprows=1)\n",
    "```\n",
    "Your goal is to plot these sample locations in their correct position on the longitudinal profile like this:\n",
    "<div>\n",
    "<img src=\"Figure_5.png\" width=\"500\"/>\n",
    "</div>\n",
    "\n",
    "### Steps to tackle this problem:\n",
    "1. You want to find the indexes (locations) in the `z_elev` array that are closest to each actual elevation of the sample location. Start simply and figure out how to find the closest elevation for just one of the sample locations first. Nothing magical is happening here, just try some simple calculations and manipulation on the `z_elev` array and one sample location elevation. *Hint*: You may want to make use of the function `np.argmin()`.\n",
    "2. Once you figure out how to find the locations in `z_elev` that are closest to a single sample location, repeat this process for the entire array of sample locations by writing a `for` loop to loop through each individual sample elevation.\n",
    "3. In each iteration of the `for` loop, you'll be finding an index or location where sample location mostly closely lines up with the longitudinal profile. You will need to **save** these indexes that are calculated in the `for` loop.\n",
    "4. Finally, make this entire process into a function so that you can repeat this process again and again as your data set expands and/or you add new data from different watersheds with different longitudinal profiles.\n",
    "\n",
    "### Challenge\n",
    "The Buffalo River flows through several different bedrock lithologies. Using the data below of the elevations of the lithological contacts along the longitudinal profile, write a function that returns the locations on the longitudinal profile of any of the bedrock lithologies. Plot the different bedrock lithologies in different colors on the longitudinal profile.\n",
    "\n",
    "**Elevations of lithological contacts:** \n",
    "* 381   contact overlying bedrock and Boone Formation (Mb)\n",
    "* 328    contact between Boone Formation (Mb) and St. Joe limestone (Mbs)\n",
    "* 319.9    contact St. Joe limestone (Mbs) and Fernvale limestone (Of)\n",
    "* 319    contact Fernvale limestone (Of) and upper Everton Formation (Oe)\n",
    "* 306    contact upper Everton Formation (Oe) and Newton sandstone (Oen)\n",
    "* 297    contact Newton sandstone (Oen) and lower Everton Formation (Oel)\n",
    "* 268     contact at Kyles landing fault\n",
    "\n"
   ]
  }
 ],
 "metadata": {
  "kernelspec": {
   "display_name": "Python 3",
   "language": "python",
   "name": "python3"
  },
  "language_info": {
   "codemirror_mode": {
    "name": "ipython",
    "version": 3
   },
   "file_extension": ".py",
   "mimetype": "text/x-python",
   "name": "python",
   "nbconvert_exporter": "python",
   "pygments_lexer": "ipython3",
   "version": "3.7.9"
  }
 },
 "nbformat": 4,
 "nbformat_minor": 5
}
