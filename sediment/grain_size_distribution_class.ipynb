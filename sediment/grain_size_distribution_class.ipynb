{
 "cells": [
  {
   "cell_type": "code",
   "execution_count": null,
   "id": "c82fb01c-4acc-44d4-ae23-09a9ce4df075",
   "metadata": {},
   "outputs": [],
   "source": [
    "# -*- coding: utf-8 -*-\n",
    "\"\"\"\n",
    "Created on Tue Feb 20 12:01:31 2024\n",
    "Edited on Tue Feb 20 14:30:00 2024 by Andres Patrignani\n",
    "@author: langston\n",
    "\"\"\""
   ]
  },
  {
   "cell_type": "code",
   "execution_count": null,
   "id": "e745b816-474d-431a-96bf-33f49069c1e1",
   "metadata": {},
   "outputs": [],
   "source": [
    "# Import modules\n",
    "%matplotlib ipympl\n",
    "\n",
    "import numpy as np\n",
    "import matplotlib.pyplot as plt\n",
    "import ipywidgets as widgets"
   ]
  },
  {
   "cell_type": "markdown",
   "id": "fbd5326e-167f-408e-b94b-89f73fcd37f1",
   "metadata": {},
   "source": [
    "## Simple script\n",
    "\n",
    "Make sure the `plt.ecdf()` runs. This method was made available recently. If students installed Anaconda recently, then it should work. You can also run in the notebook the following command: `!pip install matplotlib --upgrade`. Then restat the kernel and re-import the modules.\n"
   ]
  },
  {
   "cell_type": "code",
   "execution_count": null,
   "id": "f0c63f27",
   "metadata": {},
   "outputs": [],
   "source": [
    "#!pip install matplotlib --upgrade"
   ]
  },
  {
   "cell_type": "code",
   "execution_count": null,
   "id": "3eebb678-dc60-48c0-a90f-47b3d9a7b997",
   "metadata": {},
   "outputs": [],
   "source": [
    "# Helper functions.\n",
    "\n",
    "# Function to conver grain size from mm to phi scale\n",
    "mm_to_phi = lambda x: np.log2(x)\n",
    "\n",
    "# Function to conver grain size from phi scale to mm\n",
    "phi_to_mm = lambda x: 2**(x)\n",
    "\n",
    "# ypos for d84 plotting\n",
    "def dline_plotting(gs=50):\n",
    "    ypos = np.arange(0,gs/100,0.01)\n",
    "    dgs_x = np.ones(len(ypos))*mm_sorted[gs-1]\n",
    "    xpos=np.append(0, mm_sorted[0:gs])\n",
    "    dgs_y = np.ones(len(xpos))*gs/100\n",
    "    return ypos,dgs_x, xpos,dgs_y"
   ]
  },
  {
   "cell_type": "markdown",
   "id": "3a726c0e-678a-47a6-81dc-37cf73922da0",
   "metadata": {},
   "source": [
    "#### Fill in your chosen value of mean grain size in the cell below"
   ]
  },
  {
   "cell_type": "code",
   "execution_count": null,
   "id": "95280bc7-b29f-486d-9fd0-d72313dcec45",
   "metadata": {},
   "outputs": [],
   "source": [
    "# Define mean grain size\n",
    "mean_grain_size_mm = 64 # mm"
   ]
  },
  {
   "cell_type": "code",
   "execution_count": null,
   "id": "5dc4440a-be7e-4b1c-baf4-9920503b9d49",
   "metadata": {},
   "outputs": [],
   "source": [
    "# Create distribution by running this cell\n",
    "mean_grain_size_phi = mm_to_phi(mean_grain_size_mm)\n",
    "phi_array = np.random.normal(mean_grain_size_phi, 1.0, 100)\n",
    "phi_sorted = np.sort(phi_array)\n",
    "mm_sorted = phi_to_mm(phi_sorted)"
   ]
  },
  {
   "cell_type": "markdown",
   "id": "414ed043-cb49-46b5-b84a-6e234ac4c9d7",
   "metadata": {},
   "source": [
    "#### In the cell below\n",
    "decide if you want to plot the D$_{50}$ or the D$_{84}$ value on the figure below by setting the value of `gs` to 50 or 84 in the cell below."
   ]
  },
  {
   "cell_type": "code",
   "execution_count": null,
   "id": "a06d69d8-3a3e-49c0-9055-d93e03d26a57",
   "metadata": {},
   "outputs": [],
   "source": [
    "# set the value of gs to 50 or 84 for plotting in the figure below\n",
    "gs = 50\n",
    "ypos, dx, xpos, dy = dline_plotting(gs)"
   ]
  },
  {
   "cell_type": "code",
   "execution_count": null,
   "id": "3c969c47-c529-4f23-b31b-7371ef8bfb83",
   "metadata": {},
   "outputs": [],
   "source": [
    "# Create figure\n",
    "plt.figure(figsize=(10,4))\n",
    "plt.subplot(1,2,1)\n",
    "plt.title('Probability Distribution, ' + \"Mean D = \" + str(mean_grain_size_mm))\n",
    "plt.hist(mm_sorted, bins='auto', color=\"mediumaquamarine\", edgecolor = \"k\",density=False, histtype='bar', label='pdf')\n",
    "plt.axvline(np.mean(mm_sorted), linestyle='--', color='darkviolet', label='Mean grain size (mm)')\n",
    "plt.axvline(np.median(mm_sorted), linestyle='--', color='k', label='Med grain size (mm)')\n",
    "\n",
    "#plt.xscale('log') # Increase sample size if log scale looks sparse\n",
    "plt.xlabel('Grain size (mm)')\n",
    "plt.ylabel('Counts')\n",
    "plt.xlim([0,250])\n",
    "plt.grid(which='both')\n",
    "plt.legend()\n",
    "\n",
    "plt.subplot(1,2,2)\n",
    "plt.title('Cumulative Distribution, ' + \"Mean D = \" + str(mean_grain_size_mm))\n",
    "plt.ecdf(mm_sorted, linewidth = 3, label=\"Empirical CDF\")\n",
    "plt.plot(dx, ypos, color=\"k\", label=\"D\"+str(gs))\n",
    "plt.plot(xpos, dy, color=\"k\")\n",
    "\n",
    "plt.xscale('log')\n",
    "plt.ylabel('Probability')\n",
    "plt.xlim([11,362])\n",
    "plt.grid(which='both')\n",
    "plt.xlabel('Grain size (mm)')\n",
    "plt.legend()\n",
    "plt.show()"
   ]
  },
  {
   "cell_type": "markdown",
   "id": "a436f935-abe8-4ccb-a6a9-4c667d8d0779",
   "metadata": {},
   "source": [
    "## Widgets are fun"
   ]
  },
  {
   "cell_type": "code",
   "execution_count": null,
   "id": "1f2e795a-5107-4069-849b-b794846cc04f",
   "metadata": {},
   "outputs": [],
   "source": [
    "# Define sliders\n",
    "mean_slider = widgets.FloatSlider(value=64, min=11, max=180, step=5, description='Mean (mm)')\n",
    "sigma_slider = widgets.FloatSlider(value=0.5, min=0.01, max=1.0, step=0.05, description='standard dev (mm)')\n"
   ]
  },
  {
   "cell_type": "code",
   "execution_count": null,
   "id": "ed777a0e-650e-40c1-a78e-521f9e09b69a",
   "metadata": {},
   "outputs": [],
   "source": [
    "def generate_grain_distribution(mean, sigma):\n",
    "    # Define mean grain size\n",
    "    #mean_grain_size_mm = 64 # mm\n",
    "\n",
    "    # Create distribution\n",
    "    phi_array = np.random.normal(mm_to_phi(mean), sigma, 100) # Select small sample size for speedy refreshing\n",
    "    phi_sorted = np.sort(phi_array)\n",
    "    mm_sorted = phi_to_mm(phi_sorted)\n",
    "\n",
    "    # Create figure\n",
    "    plt.figure(figsize=(10,4))\n",
    "\n",
    "    plt.subplot(1,2,1)\n",
    "    plt.title('Probability Distribution')\n",
    "    #plt.hist(mm_sorted, bins='scott', density=False, histtype='step', label='pdf')\n",
    "    plt.hist(mm_sorted, bins='auto', color=\"mediumaquamarine\", edgecolor = \"k\",density=False, histtype='bar', label='pdf')\n",
    "\n",
    "    #plt.axvline(mean, linestyle='--', color='k', label='Mean grain size (mm)')\n",
    "    #plt.xscale('log') # Increase sample size if log scale looks sparse\n",
    "    plt.xlabel('Grain size (mm)')\n",
    "    plt.ylabel('Counts')\n",
    "    plt.xlim([0,400])\n",
    "    plt.grid(which='both')\n",
    "    plt.legend()\n",
    "\n",
    "    plt.subplot(1,2,2)\n",
    "    plt.title('Cumulative Distribution')\n",
    "    plt.ecdf(mm_sorted, label=\"Empirical CDF\")\n",
    "    plt.xscale('log')\n",
    "    plt.grid(which='both')\n",
    "    plt.xlim([22.6,362])\n",
    "    plt.xlabel('Grain size (mm)')\n",
    "    plt.ylabel('Probability')\n",
    "    return plt.show()\n"
   ]
  },
  {
   "cell_type": "code",
   "execution_count": null,
   "id": "126af0f5-fac5-4564-9953-97613e7f984f",
   "metadata": {},
   "outputs": [],
   "source": [
    "# Generate interactive app\n",
    "widgets.interact(generate_grain_distribution, mean=mean_slider, sigma=sigma_slider);"
   ]
  }
 ],
 "metadata": {
  "kernelspec": {
   "display_name": "Python 3 (ipykernel)",
   "language": "python",
   "name": "python3"
  },
  "language_info": {
   "codemirror_mode": {
    "name": "ipython",
    "version": 3
   },
   "file_extension": ".py",
   "mimetype": "text/x-python",
   "name": "python",
   "nbconvert_exporter": "python",
   "pygments_lexer": "ipython3",
   "version": "3.11.7"
  }
 },
 "nbformat": 4,
 "nbformat_minor": 5
}
