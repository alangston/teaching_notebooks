{
 "cells": [
  {
   "cell_type": "markdown",
   "id": "33d6212f-0ab2-4298-80f5-f13180a0d524",
   "metadata": {},
   "source": [
    "## Suspended sediment concentration\n",
    "\n",
    "**Suspended load:** sediment grains whose upwards velocity is greater than downwards settling velocity. In other words, the grain weight is completely supported by turbulence in the flow, not by the bed.\n",
    "\n",
    "Suspended sediment transport can occur when:\n",
    "\\begin{equation}\n",
    "u_* = w\n",
    "\\end{equation}\n",
    "\n",
    "where $u_*$ is shear velocity ($u_* = \\sqrt{\\frac{\\tau_0}{\\rho}}$) and represents shear stress in the river, and $w$ is the settling velocity of the grain, which is a function of grain size. \n",
    "\n",
    "* Downward flux of suspended grains is due to settling under gravitational force. Upward flux of suspended sediment grains is due to turbulence in the flow.\n",
    "* \n",
    "Sediment is not suspended like a picture on the wall. Sediment is continually settling down, but turbulence of the flow keeps it abovbed. There is no  a hard and fasr boundary between bedload and suspended load. A particle can be part of the bedload at one moment and entrained in the suspende load the next.\n",
    "\n"
   ]
  },
  {
   "cell_type": "markdown",
   "id": "22d9138b-ea46-413f-b5bd-8eadc26a6bf3",
   "metadata": {},
   "source": [
    "### Rouse number\n",
    "The Rouse number is a non-dimensional number that defines the sediment concentration profile and determines how sediment will be transported in a fluid. \n",
    "\n",
    "\\begin{equation}\n",
    "Rouse = \\frac{w_s}{u_* k}\n",
    "\\end{equation}\n",
    "\n",
    "where $u_*$ is shear velocity, $w$ is the settling velocity of the grain, and $k$ is von Karman's constant (from the Law of the Wall).\n",
    "\n",
    "* If Rouse > 2.5, bedload\n",
    "* If Rouse 1.2-2.5, suspended load (50%)\n",
    "* If Rouse 0.8 - 1.2, suspended load (100%)\n",
    "* If Rouse <0.8, wash load\n",
    "\n",
    "*See readings in sediment-transport-hickin.pdf for definitions of modes of transport*"
   ]
  },
  {
   "cell_type": "markdown",
   "id": "559861b0-5d66-459e-bb92-ca57f6b9d928",
   "metadata": {},
   "source": [
    "### Plotting suspended sediment concentration\n",
    "We are going to use this notebook to plot suspended sediment concentration in a vertical profile and understand what controls suspended sediment concentration."
   ]
  },
  {
   "cell_type": "code",
   "execution_count": null,
   "id": "94c49c31-9ff6-445a-9ff8-c23abea09d98",
   "metadata": {},
   "outputs": [],
   "source": [
    "import numpy as np\n",
    "import matplotlib.pyplot as plt"
   ]
  },
  {
   "cell_type": "markdown",
   "id": "ad92bedf-4a9e-4786-b174-5856af80a72d",
   "metadata": {},
   "source": [
    "**Effect of different shear stress ($u_*$)** in the cell below."
   ]
  },
  {
   "cell_type": "code",
   "execution_count": null,
   "id": "d3630f04",
   "metadata": {},
   "outputs": [],
   "source": [
    "#%%sed concentration\n",
    "## CHANGING VALUES OF u_star #######\n",
    "\n",
    "Ca=1      #%reference concentration\n",
    "za=0.01    #%depth of reference concentration\n",
    "k=0.4      #%vonK constant\n",
    "w1=0.01     #%settling velocity m/s   D = 0.00011  # grain diameter, m\n",
    "\n",
    "u_star1=0.015   #%made up u*\n",
    "u_star2=0.085   #%made up u* orig 0.15\n",
    "u_star3=0.25   #%made up u*\n",
    "z=np.arange(0,1,0.01)    #range of depths for plotting\n",
    "\n",
    "C1=Ca*(z/za)**-(w1/(k*u_star1))    #calculation of suspeneded sediment concentration in a vertical profile\n",
    "C2=Ca*(z/za)**-(w1/(k*u_star2))\n",
    "C3=Ca*(z/za)**-(w1/(k*u_star3))\n",
    "\n",
    "\n",
    "### Below, calculating Rouse numbers\n",
    "P1=(w1/(k*u_star1))\n",
    "P2=(w1/(k*u_star2))\n",
    "P3=(w1/(k*u_star3))\n"
   ]
  },
  {
   "cell_type": "code",
   "execution_count": null,
   "id": "5edc2771-33a7-440a-a63e-87b6f52c50c0",
   "metadata": {},
   "outputs": [],
   "source": [
    "#%%sed concentration\n",
    "\n",
    "plt.figure()\n",
    "plt.plot(C1,z, 'b', label='Rouse number='+str('%.2f' % P1))    #this is a handy line that makes a float print only two decimal places. a string formatting operator\n",
    "plt.plot(C2, z, 'r', label='Rouse number='+str('%.2f' % P2))\n",
    "plt.plot(C3, z, 'k', label='Rouse number='+str('%.2f' % P3))\n",
    "plt.xlabel(r'sediment concentration (kg/m$^3$)')\n",
    "plt.ylabel('flow depth (m)')\n",
    "plt.legend(loc=1)\n",
    "plt.title(\"Suspended sediment concentrations for D = 0.1 mm\")\n",
    "plt.xlim([-0.05, 1])\n",
    "plt.ylim([0,1])"
   ]
  },
  {
   "cell_type": "markdown",
   "id": "385f7e19-e697-4d54-ab65-1c52470a86a6",
   "metadata": {},
   "source": [
    "### Look at the figure above\n",
    "\n",
    "* Explain the figure to yourself.\n",
    "* What do the lines represent?\n",
    "* How do we explain the differences in suspended sediment concentration given that the grain diameter is constant (D = 0.1mm)?\n"
   ]
  },
  {
   "cell_type": "markdown",
   "id": "72b8a7d5-c57b-48f1-b2ab-bb0d1b8696d2",
   "metadata": {},
   "source": [
    "**Effect of different grain sizes ($D$)** in the cell below."
   ]
  },
  {
   "cell_type": "code",
   "execution_count": null,
   "id": "e524b313-a073-44c6-9903-28fa78c1ff79",
   "metadata": {},
   "outputs": [],
   "source": [
    "#%%sed concentration\n",
    "## CHANGING VALUES OF D, grain size #######\n",
    "w1=0.01     #%settling velocity m/s   D = 0.00011  # grain diameter, m\n",
    "w2=0.001     #%settling velocity m/s   D = 0.00004  # grain diameter, m \n",
    "w3=0.0001     #%settling velocity m/s D = 0.00002  # grain diameter, m \n",
    "\n",
    "u_star1=0.015   #%made up u*\n",
    "\n",
    "z=np.arange(0,1,0.01)    #range of depths for plotting\n",
    "\n",
    "## below calculation of suspeneded sediment concentration in a vertical profile\n",
    "Cd1=Ca*(z/za)**-(w1/(k*u_star1))    \n",
    "Cd2=Ca*(z/za)**-(w2/(k*u_star1))\n",
    "Cd3=Ca*(z/za)**-(w3/(k*u_star1))\n",
    "\n",
    "### Below, calculating Rouse numbers\n",
    "Pd1=(w1/(k*u_star1))\n",
    "Pd2=(w2/(k*u_star1))\n",
    "Pd3=(w3/(k*u_star1))"
   ]
  },
  {
   "cell_type": "code",
   "execution_count": null,
   "id": "741554ba-1757-422f-a794-a5087f3c157a",
   "metadata": {},
   "outputs": [],
   "source": [
    "#%%sed concentration\n",
    "\n",
    "plt.figure()\n",
    "plt.plot(Cd1,z, 'b', label='Rouse number='+str('%.2f' % Pd1))    #this is a handy line that makes a float print only two decimal places. a string formatting operator\n",
    "plt.plot(Cd2, z, 'r', label='Rouse number='+str('%.2f' % Pd2))\n",
    "plt.plot(Cd3, z, 'k', label='Rouse number='+str('%.2f' % Pd3))\n",
    "plt.xlabel(r'sediment concentration (kg/m$^3$)')\n",
    "plt.ylabel('flow depth (m)')\n",
    "plt.legend(loc=1)\n",
    "plt.title(r\"Suspended sediment concentrations for $u_*$ = 0.15 m/s\")\n",
    "plt.xlim([-0.05, 1])\n",
    "plt.ylim([0,1])"
   ]
  },
  {
   "cell_type": "markdown",
   "id": "1aeaa226-39bf-433a-8532-9edaac6e2eca",
   "metadata": {},
   "source": [
    "### Look at the figure above\n",
    "\n",
    "* Explain the figure to yourself.\n",
    "* What do the lines represent?\n",
    "* How do we explain the differences in suspended sediment concentration given that the shear velocity is constant ($u_*$ = 0.15m/s)?\n",
    "* **Note:** Remember that $u_* = \\sqrt{\\frac{\\tau_0}{\\rho}}$ and represents shear stress in the river. \n"
   ]
  }
 ],
 "metadata": {
  "kernelspec": {
   "display_name": "Python 3 (ipykernel)",
   "language": "python",
   "name": "python3"
  },
  "language_info": {
   "codemirror_mode": {
    "name": "ipython",
    "version": 3
   },
   "file_extension": ".py",
   "mimetype": "text/x-python",
   "name": "python",
   "nbconvert_exporter": "python",
   "pygments_lexer": "ipython3",
   "version": "3.11.7"
  }
 },
 "nbformat": 4,
 "nbformat_minor": 5
}
