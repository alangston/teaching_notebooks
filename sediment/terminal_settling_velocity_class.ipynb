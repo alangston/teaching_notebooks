{
 "cells": [
  {
   "cell_type": "markdown",
   "id": "02e7e9ea",
   "metadata": {},
   "source": [
    "## Terminal settling velocity of a sphere in still fluid\n",
    "\n",
    "Like other problems we've worked with in class, we will take a force balance approach to find an equation for terminal settling velocity of a sphere in a still fluid. \n",
    "\n",
    "First, let's define our *sphere* and our *still fluid* in this example. In this example, we will use a single sediment grain (the sphere) settling in water (the fluid). But note that this same force balance and resulting equations for terminal settling velocity can apply to any sphere settling in any fluid:\n",
    "* Raindrops falling from clouds to the earth\n",
    "* Volcanic ash \n",
    "* Solidified crystals settling to the bottom of a magma chamber\n",
    "\n",
    "We just need to know the properties of the sphere and the fluid to calculate terminal settling velocity. \n",
    "\n",
    "<div>\n",
    "<img src=\"img/settling_sphere.png\" width=\"100\"/>\n",
    "</div>\n",
    "\n",
    "\n",
    "\n",
    "In the diagram above, two forces acting on the grain are labeled: gravitational force ($F_g$) and drag force ($F_d$). Now let's define these forces:\n",
    "\n"
   ]
  },
  {
   "cell_type": "markdown",
   "id": "0bf0899e",
   "metadata": {},
   "source": [
    "### Gravitational force\n",
    "Recall that $F = ma$, so the gravitational force acting on the grain is equal to the submerged weight of the grain times gravitational acceleration. Also, recall that we can get the mass of the grain by multiplying density * volume.\n",
    "\n",
    "\n",
    "\\begin{equation}\n",
    "F_g = (\\rho_p - \\rho_f) g \\frac{\\pi}{6} D^3\n",
    "\\end{equation}\n",
    "\n",
    "where $\\rho_p$ is the density of the particle that is settling, $\\rho_f$ is the density of the fluid through which the particle is settling, g is gravitational acceleration, and $\\frac{\\pi}{6}D^3$ is the volume of a sphere, written in terms of grain diameter, $D$."
   ]
  },
  {
   "cell_type": "markdown",
   "id": "25918813",
   "metadata": {},
   "source": [
    "### Drag force\n",
    "\n",
    "Drag force is the force acting opposite to the relative motion of the object moving in a fluid. \n",
    "\n",
    "**Drag** is a function of:\n",
    "* velocity - higher drag at higher velocities\n",
    "* density of the fluid - the density of the particle doesn't matter, only the density of the fluid. Imagine the drag of a car made of lead vs. a car made of styrofoam. If they are the same size, they will have the same drag.\n",
    "* size of the particle - this size is expressed as the area of the particle presented in the direction of the downwards motion. (Imagine how the drag on a skydiver changes with their body orientation: diving head down vs. spread eagle. Also the parachute of a skydiver.)\n",
    "* the drag coefficient\n",
    "\n",
    "\\begin{equation}\n",
    "F_d = \\frac{C_D}{2} \\rho_f \\frac{\\pi D^2}{4}w^2\n",
    "\\end{equation}\n",
    "\n",
    "where $C_D$ is a dimensionless drag coefficient, $\\frac{\\pi D^2}{4}$ is the area of the settling particle, and $w$ is settling velocity."
   ]
  },
  {
   "cell_type": "markdown",
   "id": "78f369e4",
   "metadata": {},
   "source": [
    "We want to find an equation for terminal settling velocity, meaning that the sphere is not accelerating. Where acceleration is zero, the sum of forces is zero: $\\Sigma F = 0$.\n",
    "Because the sum of forces is zero, we can set gravitational force and drag force equal to each other: $F_g = F_d$.\n",
    "\n",
    "\\begin{equation}\n",
    "\\frac{C_D}{2} \\rho_f \\frac{\\pi D^2}{4}w^2 = (\\rho_p - \\rho_f) g \\frac{\\pi}{6} D^3\n",
    "\\end{equation}\n",
    "\n",
    "Now we solve for $w$ to get our final equation for terminal settling velocity:\n",
    "\n",
    "\\begin{equation}\n",
    "w = \\left [ \\frac{4}{3}\\frac{(\\rho_p - \\rho_f)}{\\rho_f} \\frac{g D}{cd} \\right ]^{0.5}\n",
    "\\end{equation}"
   ]
  },
  {
   "cell_type": "markdown",
   "id": "a258cc68",
   "metadata": {},
   "source": [
    "### Drag coefficient\n",
    "\n",
    "The drag coefficient, $C_D$ depends on the *particle Reynolds number*. The particle Reynolds number takes a similar form to the Reynolds number in a flow:\n",
    "\n",
    "\\begin{equation}\n",
    "Re = \\frac{\\rho_f w D}{\\mu}\n",
    "\\end{equation}\n",
    "\n",
    "where $\\rho_f$ is the density of the fluid, $w$ is the settling velocity, $D$ is the diameter of the grain, and $\\mu$ is the viscosity of the fluid. You can check the units on the formula above and find that the particle Reynolds number is dimensionless.\n",
    "\n",
    "<div>\n",
    "<img src=\"img/cdvsRe.png\" width=\"600\"/>\n",
    "</div>\n",
    "\n",
    "The relationship between $C_D$ and $Re$ shown in the figure above is found experimentally, not theoretically. This graph shows us two different relationships between $C_D$ and $Re$:\n",
    "\n",
    "* at high $Re$ (>$10^3$), $C_D$ is a constant value, 0.4.\n",
    "* At low $Re$ (<$10^2$), $C_D = \\frac{24}{Re}$"
   ]
  },
  {
   "cell_type": "markdown",
   "id": "fe5322f9",
   "metadata": {},
   "source": [
    "### Stokes Law\n",
    "Stokes' Law of settling velocity is used for very low particle Reynolds numbers. Recall that $Re$ is a ratio of inertial and viscous forces. In the low $Re$ realm, a flow is dominated by the viscosity of a fluid, $\\mu$. In this low $Re$ realm, we can use Stokes Law to find the terminal settling velocity:\n",
    "\n",
    "\\begin{equation}\n",
    "w = \\frac{(\\rho_p - \\rho_f)}{18 \\mu}g D^2\n",
    "\\end{equation}\n",
    "\n",
    "Note that there is no drag coefficient in the equation for Stokes Law."
   ]
  },
  {
   "cell_type": "markdown",
   "id": "42f98fb7-728d-44df-81b0-4432882531c4",
   "metadata": {},
   "source": [
    "### Practice calculations\n",
    "Calculate the settling velocity $w$ for two fine grained particles:\n",
    "* A silt sized particle (0.01 mm)\n",
    "* A very fine sand sized particle (0.1 mm)\n",
    "  \n",
    "**Note 1:** You will need to fill in values for particle density, water density, and grain diameter. Make sure you have consistent units!\n",
    "  \n",
    "**Note 2:** We will assume that we can use Stokes Law to calculate settling velocity for these very fine grained particles. After we calculate settling velocity, we can check our use of Stokes Law by calculating the Reynolds Number.\n",
    "\n",
    "We can also look at the settling velocity vs. grain size figure below to get an idea if we are in the low $Re$ realm or the high $Re$ realm.\n",
    "<div>\n",
    "<img src=\"img/velocityvsD.png\" width=\"400\"/>\n",
    "</div>"
   ]
  },
  {
   "cell_type": "code",
   "execution_count": null,
   "id": "94c49c31-9ff6-445a-9ff8-c23abea09d98",
   "metadata": {},
   "outputs": [],
   "source": [
    "import numpy as np"
   ]
  },
  {
   "cell_type": "code",
   "execution_count": null,
   "id": "d3630f04",
   "metadata": {},
   "outputs": [],
   "source": [
    "#### STOKES LAW####\n",
    "\n",
    "## Calculate settling velocity for small grain sizes using Stokes' Law\n",
    "rhop =    # density of sediment, kg/m3\n",
    "rhof =   # density of water, kg/m3\n",
    "D =   # grain diameter, m \n",
    "mu = 1e-3    #viscosity of water, Pa*s\n",
    "cd = 0.4\n",
    "g = 9.81\n",
    "\n",
    "w = D**2 * g * (rhop-rhof)/(18*mu) # terminal velocity, stokes law, m/s\n",
    "\n",
    "print(\"Stokes settling velocity = \", np.round(w, decimals=5), \"m/s\")\n",
    "print(\"when grain size is \", D*1000, \"mm\")"
   ]
  },
  {
   "cell_type": "code",
   "execution_count": null,
   "id": "6343236e",
   "metadata": {},
   "outputs": [],
   "source": [
    "#%% calc Reynolds number\n",
    "mu = 1e-3\n",
    "Re_stokes=rhof*w*D/mu\n",
    "\n",
    "print(\"Stokes Re number\", np.round(Re_stokes, decimals=5))\n",
    "print(\"when grain size is \", D*1000, \"mm\")"
   ]
  },
  {
   "cell_type": "markdown",
   "id": "a08ce702-cd43-425d-b181-fd493aeb34e2",
   "metadata": {},
   "source": [
    "**Stop here and record** the settling velocities and Reynolds numbers for the silt sized particle and the sand sized particle."
   ]
  },
  {
   "cell_type": "markdown",
   "id": "41fc5c6a-9a6b-4568-8834-6d8c1e9d45a2",
   "metadata": {},
   "source": [
    "### Practice calculations\n",
    "What settling velocity equation should we use for a gravel sized grain (50 mm)? Probably a safe bet that we use the high Reynolds number equation.\n",
    "\n",
    "Calculate the settling velocity and Reynolds number for:\n",
    "* A 50 mm gravel-sized sediment particle\n",
    "* A 50 mm gravel-sized particle made of solid gold\n",
    "\n",
    "**Note:** you will need to fill in values for particle density, water density, and grain diameter. Make sure you have consistent units!"
   ]
  },
  {
   "cell_type": "code",
   "execution_count": null,
   "id": "8a27ed6f",
   "metadata": {},
   "outputs": [],
   "source": [
    "########### terminal settling velocity for high Reynolds numbers###############\n",
    "\n",
    "##Calculate settling velocity for larger grain sizes using a drag coefficient of 0.4.\n",
    "\n",
    "rhop =    # density of sediment grain, kg/m3\n",
    "rhog =   #density of gold, kg/m3\n",
    "rhof =   # density of water kg/m3\n",
    "D =   #grain dimeter, m (50 mm)\n",
    "mu = 1e-3    #viscosity of water, Pa*s\n",
    "cd = 0.4    #drag coefficient\n",
    "g = 9.81    #gravity, m/s2\n",
    "\n",
    "w=((4/3)*((rhop-rhof)/rhof)*(g*D)/cd)**0.5    #settling velocity particle\n",
    "wg=((4/3)*((rhog-rhof)/rhof)*(g*D)/cd)**0.5    #settling velocity gold\n",
    "\n",
    "print(\"large particle settling velocity = \", np.round(w, decimals=2), \"m/s\")\n",
    "print(\"gold particle settling velocity = \", np.round(wg, decimals=2), \"m/s\")"
   ]
  },
  {
   "cell_type": "code",
   "execution_count": null,
   "id": "64b233ac",
   "metadata": {},
   "outputs": [],
   "source": [
    "#%% calc reynolds number\n",
    "mu = 1e-3\n",
    "Re=rhof*w*D/mu    #Re number for particle\n",
    "Re_gold=rhof*wg*D/mu    #Re number for gold\n",
    "\n",
    "print(\"Re number\", np.round(Re, decimals=2))\n",
    "print(\"Re number for gold, amazing! :)\", np.round(Re_gold, decimals=2))"
   ]
  },
  {
   "cell_type": "markdown",
   "id": "385f7e19-e697-4d54-ab65-1c52470a86a6",
   "metadata": {},
   "source": [
    "**Stop here and record** the settling velocities and Reynolds numbers for the 50 mm sediment particle and the 50mm particle of gold. How can we explain the differences in velocity between the two particles?"
   ]
  },
  {
   "cell_type": "markdown",
   "id": "75ab8856-22ad-4e2b-bcf7-b2ec0f8df998",
   "metadata": {},
   "source": [
    "#### Practice calculation\n",
    "If there is time, we can play with calculating how long it would take for sediment grains to settle to the bottom of a lake. Code cells below for calculating time to settle."
   ]
  },
  {
   "cell_type": "code",
   "execution_count": null,
   "id": "1e000b3f",
   "metadata": {},
   "outputs": [],
   "source": [
    "## calculate how long it would take for grains to settle 500m, the depth of Lake Tahoe\n",
    "## UNITS OF M/DAY\n",
    "\n",
    "depth = 500\n",
    "#convert settling velocity from m/s to m/day\n",
    "w_days = w*86400\n",
    "\n",
    "time_to_settle = depth/w_days\n",
    "\n",
    "print(\"time to fall 500m = \", time_to_settle, \"days\")\n",
    "print(\"when grain size is \", D*1000, \"mm\")"
   ]
  },
  {
   "cell_type": "code",
   "execution_count": null,
   "id": "e5659e67",
   "metadata": {},
   "outputs": [],
   "source": [
    "## calculate how long it would take for grains to settle 500m, the depth of Lake Tahoe\n",
    "## UNITS OF M/HOUR\n",
    "\n",
    "depth = 500\n",
    "# convert settling velocity from m/s to m/hour\n",
    "w_hours = w*3600\n",
    "\n",
    "time_to_settle = depth/w_hours\n",
    "\n",
    "print(\"time to fall 500m = \", time_to_settle, \"hours\")\n",
    "print(\"when grain size is \", D*1000, \"mm\")"
   ]
  },
  {
   "cell_type": "code",
   "execution_count": null,
   "id": "39323688",
   "metadata": {},
   "outputs": [],
   "source": [
    "## calculate how long it would take for grains to settle 500m, the depth of Lake Tahoe\n",
    "## UNITS OF M/minute\n",
    "\n",
    "depth = 500\n",
    "\n",
    "# convert settling velocity from m/s to m/minute\n",
    "w_minutes = w*60\n",
    "\n",
    "time_to_settle = depth/w_minutes\n",
    "\n",
    "print(\"time to fall 500m = \", time_to_settle, \"minutes\")\n",
    "print(\"when grain size is \", D*1000, \"mm\")"
   ]
  },
  {
   "cell_type": "code",
   "execution_count": null,
   "id": "d9bc66d3",
   "metadata": {},
   "outputs": [],
   "source": [
    "print(w)"
   ]
  }
 ],
 "metadata": {
  "kernelspec": {
   "display_name": "Python 3 (ipykernel)",
   "language": "python",
   "name": "python3"
  },
  "language_info": {
   "codemirror_mode": {
    "name": "ipython",
    "version": 3
   },
   "file_extension": ".py",
   "mimetype": "text/x-python",
   "name": "python",
   "nbconvert_exporter": "python",
   "pygments_lexer": "ipython3",
   "version": "3.11.7"
  }
 },
 "nbformat": 4,
 "nbformat_minor": 5
}
