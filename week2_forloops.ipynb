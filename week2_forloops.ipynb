{
 "cells": [
  {
   "cell_type": "markdown",
   "id": "5ada8daa",
   "metadata": {},
   "source": [
    "## Loops in Python\n",
    "#### Why Use Loops\n",
    "<br>\n",
    "A loop is a sequence of operations that are performed over and over in some specified order, until a specified condition is met. There are two main types of loops we'll look at: **for loops** and **while loops**. \n",
    "\n",
    "Loops can help you to eliminate repetition in code by replacing duplicate lines of code with an iteration, meaning that you can iteratively execute the same code line or block until it reaches a specified end point.\n",
    "\n",
    "Instead of copying and pasting the same code over and over to run it multiple times (say, on multiple variables or files), you can create a loop that contains one instance of the code and that executes that code block on a range or list of values that you provide.\n",
    "\n",
    "### Examples of using loops\n",
    "- Running a numerical model over many time steps\n",
    "* Making a series of figures showing change through time\n",
    "* Importing a set of data files\n",
    "\n",
    "Our most common application of for loops will be in the context of landscape changes through time.\n",
    "\n",
    "### For loops\n",
    "A **For Loop** repeats a set of actions for every item in a collection (every letter in a word, every number in some range, every name in a list) until it runs out of items:\n",
    "The general form of a for loop is:\n",
    "\n",
    "`\n",
    "for item in collection:\n",
    "    do things with item\n",
    "`\n",
    "#### Formatting For loops\n",
    "A for loop starts with the word `for`, then the variable name that each item in the collection is going to take inside the loop, then the word `in`, and then the collection or sequence of items to loop through. \n",
    "\n",
    "\n",
    "The first line must end with a colon `:`. The commands that are run repeatedly inside the loop are *indented* below the first line that ends wiht a colon. Unlike many other languages, there is no command to end a loop (e.g. end for): the loop ends once the indentation moves back to the left.\n",
    "\n",
    "\n",
    "In the first example, the following lines execute a for loop that iterates over an array of values and executes the print() function until it reaches the end of the list:"
   ]
  },
  {
   "cell_type": "code",
   "execution_count": null,
   "id": "d2a68658",
   "metadata": {
    "scrolled": true
   },
   "outputs": [],
   "source": [
    "import numpy as np\n",
    "x = np.arange(0,10)\n",
    "\n",
    "for i in x:\n",
    "    print(\"i = \", i)"
   ]
  },
  {
   "cell_type": "markdown",
   "id": "102bb6b0",
   "metadata": {},
   "source": [
    "In the example above, `i` is the name of each individual value of x inside the for loop.\n",
    "\n",
    "Let's look at another example of a for loop that iterates over a list of file names:"
   ]
  },
  {
   "cell_type": "code",
   "execution_count": null,
   "id": "b38daac9",
   "metadata": {},
   "outputs": [],
   "source": [
    "file_names = [\"file1\", \"file2\", \"file3\"]\n",
    "for i in file_names:\n",
    "    print(\"i = \", i)\n",
    "    print(\"Here we could import the file\")\n",
    "    print(\"Next we could do some calculations on the contents of the file\")\n",
    "    print(\"Finally, save the calculations and move on to the next file\")\n",
    "    print(\"\")\n",
    "print(\"Now finished importing files\")"
   ]
  },
  {
   "cell_type": "markdown",
   "id": "16e4924c",
   "metadata": {},
   "source": [
    "### While Loops\n",
    "\n",
    "A `while` loop is used to iteratively execute code until a pre-defined condition is no longer satisfied (i.e. results in a value of `False`). That condition could be a limit on how many times you want the code to run, or that results of the code reach a certain value (e.g. code will iteratively execute as long as the current value of the results is less than 5). After the pre-defined condition is no longer `True`, the loop will not execute another iteration.\n",
    "\n",
    "<code>while x < 5:\n",
    "    execute some code here\n",
    "</code>"
   ]
  },
  {
   "cell_type": "markdown",
   "id": "a64f3de2",
   "metadata": {},
   "source": [
    "Notice that the loop begins with `while` followed by a condition that ends with a colon `:`. Also, notice that the code below the `while` statement is indented. This indentation is important, as it indicates that the code will be executed as part of the loop within it is contained, not after the loop is completed.\n",
    "\n",
    "Check out more examples in this <a href=\"https://www.earthdatascience.org/courses/intro-to-earth-data-science/write-efficient-python-code/loops/\" target=\"_blank\">earth data science lesson</a> to see more examples of the while loop in action. \n",
    "\n",
    "This example below uses a while loop to iteratively add a value of 1 to a variable x, as long as the current value of x does not exceed a specified value. In this example, a comparison operator (e.g. <) is used to compare the value of x (which begins with value of 0) to the value 10, the designated end point. Within the loop, an assignment operator (+=) is used to add a value of 1 to x, and the current value of x is printed. This process repeats each time that the code iterates, until the current value of x is no longer less than 10."
   ]
  },
  {
   "cell_type": "code",
   "execution_count": null,
   "id": "e036c33b",
   "metadata": {},
   "outputs": [],
   "source": [
    "# Set x equal to 0\n",
    "x = 0\n",
    "\n",
    "# Add 1 to x until x is no longer less than 10\n",
    "while x < 10:\n",
    "    x += 1\n",
    "    print(x)"
   ]
  },
  {
   "cell_type": "markdown",
   "id": "514d4903",
   "metadata": {},
   "source": [
    "Once `x` reaches 10, the condition is no longer true (as `x` is no longer less than 10), so the loop ends and does not execute another iteration of the code. Note that to use the value of the variable `x` as a condition for the loop, you must use the correct variable name in the loop (e.g. `x`), so that the condition can check the status of `x` as the loop iterates.\n",
    "\n",
    "Also, note that the code within the loop is executed in order, meaning that the `print()` function executes after the value of 1 is added to `x`. You can change that order if you want to see the value of `x` before the value of 1 has been added."
   ]
  },
  {
   "cell_type": "code",
   "execution_count": null,
   "id": "360691f9",
   "metadata": {},
   "outputs": [],
   "source": [
    "# Set x equal to 0\n",
    "x = 0\n",
    "\n",
    "# Add 1 to x until x is no longer less than 10\n",
    "while x < 10:\n",
    "    print(\"x before\", x)\n",
    "    x += 1\n",
    "    print(\"x after\", x)\n",
    "    print(\"\")"
   ]
  },
  {
   "cell_type": "markdown",
   "id": "202b12be",
   "metadata": {},
   "source": [
    "###  For loops through time, examples\n",
    "Back to `for` loops to show some applications and more advanced uses of Python.\n",
    "\n",
    "#### Calculate elevation change through time\n",
    "\n",
    "In the basic example below, we have a starting elevation of 0 and an uplift rate of 0.001. We will use a for loop to calculate a new elevation through time. \n",
    "\n",
    "*Combining Assignment with Arithmetic Operators: Arithmetic Assignment*:\n",
    "\n",
    "In the example below, you will see that we use a different syntax for calculating the value of elevation through time. If you want to assign a new value as a result of a calculation, you can use an assignment operator, which combines the arithmetic operator (e.g. +) with the assignment = to set a new value. For example, you can combine + and = to add a value and set the result equal to itself plus the new value."
   ]
  },
  {
   "cell_type": "code",
   "execution_count": null,
   "id": "4ea29662",
   "metadata": {
    "scrolled": true
   },
   "outputs": [],
   "source": [
    "elevation = 0.\n",
    "uplift_rate = 0.001   # uplift rate in units, mm/year\n",
    "time = np.arange(0,10)    # time steps in years\n",
    "\n",
    "for i in time:\n",
    "    print(\"i = \", i) \n",
    "    elevation += uplift_rate\n",
    "    print(\"elevation = \", elevation)\n",
    "    "
   ]
  },
  {
   "cell_type": "markdown",
   "id": "911aa6f2",
   "metadata": {},
   "source": [
    "#### Calculate elevation change through time, larger time steps\n",
    "\n",
    "In the example above, we didn't specify a time step so `np.arange` gave us a default time step of 1 year. What if we want to run this for loop over a longer time period, so 500 years, but we don't want to do this calculation 500 times (dt = 1) when doing the calculation 10 times will work just fine?\n",
    "\n",
    "Let's specify a value for `dt`, the time step size in years. This value of dt will then become our step size in the `np.arange` function. "
   ]
  },
  {
   "cell_type": "code",
   "execution_count": null,
   "id": "e0b0595c",
   "metadata": {
    "scrolled": true
   },
   "outputs": [],
   "source": [
    "elevation = 0.\n",
    "uplift_rate = 0.001   # uplift rate in units, mm/year \n",
    "dt = 50    #time step size in years\n",
    "time = np.arange(0,501,dt)# time steps in years\n",
    "for i in time:\n",
    "    print(\"i = \", i)\n",
    "    #print (\"time[i] = \", time[i])\n",
    "    \n",
    "    elevation += uplift_rate*dt\n",
    "    print(\"elevation = \", elevation)\n",
    "    "
   ]
  },
  {
   "cell_type": "markdown",
   "id": "ad4ba70b",
   "metadata": {},
   "source": [
    "#### Save data calculated during a for loop\n",
    "Let's say we want to save our elevation calculations through time, rather than just printing the output every timestep. We can save the data inside of the `for` loop. \n",
    "\n",
    "Below are examples for two ways to save data through time: \n",
    "1. Building and saving a list through time \n",
    "2. Building and saving a numpy array through time. "
   ]
  },
  {
   "cell_type": "code",
   "execution_count": null,
   "id": "18f7e2fb",
   "metadata": {},
   "outputs": [],
   "source": [
    "# building a list through time\n",
    "elevation = 0.\n",
    "uplift_rate = 0.001   # uplift rate in units, mm/year \n",
    "dt = 50    #time step size in years\n",
    "time = np.arange(0,501,dt)# time steps in years\n",
    "elev_time = [elevation]\n",
    "# elev_time = []    # can start from an empty list\n",
    "for i in time:\n",
    "    print(\"i = \", i)\n",
    "    elevation += uplift_rate*dt\n",
    "    elev_time.append(elevation)    # add value to end of list with python append\n",
    "    print(\"elevation = \", elevation)\n",
    "    print(\"elev_time\", elev_time)"
   ]
  },
  {
   "cell_type": "code",
   "execution_count": null,
   "id": "8c19d862",
   "metadata": {},
   "outputs": [],
   "source": [
    "### building a numpy array through time    \n",
    "elevation = 0.\n",
    "elev_time = elevation\n",
    "elev_time = []\n",
    "for i in time:\n",
    "    print(\"i = \", i)\n",
    "    elevation += uplift_rate*dt\n",
    "    print(\"elev_time\", elev_time)\n",
    "    elev_time = np.append(elev_time, elevation)    # add value to end of array with numpy.append\n",
    "    print(\"elevation = \", elevation)"
   ]
  },
  {
   "cell_type": "markdown",
   "id": "1e80c555",
   "metadata": {},
   "source": [
    "## Conditional Statements in Python\n",
    "\n",
    "A conditional statement is used to determine whether a certain condition exists before code is executed.\n",
    "\n",
    "Conditional statements can help improve the efficiency of your code by providing you with the ability to control the flow of your code, such as when or how code is executed.\n",
    "\n",
    "This can be very useful for checking whether a certain condition exists before the code begins to execute, as you may want to only execute certain code lines when certain conditions are met.\n",
    "\n",
    "For example, conditional statements can be used to check that a certain variable or file exists before code is executed, or to execute more code if some criteria is met, such as a calculation resulting in a specific value.\n",
    "\n",
    "### Structure of Conditional Statements\n",
    "A conditional statement uses a syntax structure based on `if` and `else` statements (each ending with a colon `:`) that define the potential actions that can be completed based on whether the condition is true or not:\n",
    "\n",
    "```\n",
    "if condition:\n",
    "    some code here\n",
    "else:\n",
    "    some other code here\n",
    "```"
   ]
  },
  {
   "cell_type": "markdown",
   "id": "eea1d592",
   "metadata": {},
   "source": [
    "If the condition provided with the `if` statement is satisfied (i.e. results in a value of `True`), then a certain code will execute. If that condition is not met (i.e. results in a value of `False`), then the code provided with the `else` statement will execute.\n",
    "\n",
    "#### Indentation and Execution of Code Lines\n",
    "Note that the indentations for the code lines after `if` and `else` are an important part of the syntax of conditional statements. These indentations indicate which code should be executed with which statement, and they make the code easier to read.\n",
    "\n",
    "In the examples above and below, the code following the `if` and `else` statements can actually be replaced by any code that will execute in Python. For example, you could choose to perform some calculations on the data, use one analysis method vs. antoher, plot data, etc. depending on whether the condition is satisfied.\n",
    "\n",
    "#### Compare Numeric Values Using Conditional Statements\n",
    "You can write conditional statements that use comparison operators (e.g. equal to ==, less than <) to check the value of a variable against some other value or variable.\n",
    "\n",
    "Let's go back to `for` loops to work with some examples.\n",
    "\n",
    "Below we'll modify the `for` loop to print statements if the value `i` is equal to `==`, less then `<`, and greater than certain values we set. \n"
   ]
  },
  {
   "cell_type": "code",
   "execution_count": null,
   "id": "9d99cedd",
   "metadata": {},
   "outputs": [],
   "source": [
    "elevation = 0.\n",
    "uplift_rate = 0.001   # uplift rate in units, mm/year\n",
    "time = np.arange(0,10)    # time steps in years\n",
    "\n",
    "for i in time:\n",
    "    print(\"i = \", i) \n",
    "    elevation += uplift_rate\n",
    "    if i == 3:\n",
    "        print(\"i is equal to \", i)\n",
    "    else:\n",
    "        print(\"i equals \",i, \", not 3\")\n"
   ]
  },
  {
   "cell_type": "code",
   "execution_count": null,
   "id": "3695fe1d",
   "metadata": {},
   "outputs": [],
   "source": [
    "elevation = 0.\n",
    "uplift_rate = 0.001   # uplift rate in units, mm/year\n",
    "time = np.arange(0,10)    # time steps in years\n",
    "\n",
    "for i in time:\n",
    "    print(\"i = \", i) \n",
    "    elevation += uplift_rate\n",
    "    if i < 3:\n",
    "        print(\"i is < 3\")\n",
    "    else:\n",
    "        print(\"i is > or = to 3\")\n",
    "    print(\" \")\n"
   ]
  },
  {
   "cell_type": "markdown",
   "id": "b0aca0fc",
   "metadata": {},
   "source": [
    "Now let's try some applications that are little more complex and closer to actual applications we'll be doing.\n",
    "\n",
    "Using a copy of the `for` loop above where we changed elevation over 500 years:\n",
    "\n",
    "1. When time is greater than 200 years, double the uplift rate for the rest of the run.\n"
   ]
  },
  {
   "cell_type": "code",
   "execution_count": null,
   "id": "aa6e3f2f",
   "metadata": {},
   "outputs": [],
   "source": [
    "# copy for loop above where we changed elevation over 500 years\n",
    "uplift_rate_init = 0.001   # uplift rate in units, mm/year \n",
    "dt = 50    #time step size in years\n",
    "time = np.arange(0,501,dt)# time steps in years\n",
    "for i in time:\n"
   ]
  },
  {
   "cell_type": "markdown",
   "id": "3aece7ca",
   "metadata": {},
   "source": [
    "Using a copy of the `for` loop above where we changed elevation over 500 years:\n",
    "\n",
    "2. When time exactly equals 200 years, set uplift rate equal to 0. When time is greater than 200 years, uplift rate is half of original rate. Otherwise, uplift rate is the original rate.\n",
    "\n",
    "Hint: in this one, you will use the `if`, `elif`, and `else` syntax."
   ]
  },
  {
   "cell_type": "code",
   "execution_count": null,
   "id": "16497de9",
   "metadata": {},
   "outputs": [],
   "source": [
    "# copy for loop above where we changed elevation over 500 years\n",
    "uplift_rate_init = 0.001   # uplift rate in units, mm/year \n",
    "dt = 50    #time step size in years\n",
    "time = np.arange(0,501,dt)# time steps in years\n",
    "for i in time:\n"
   ]
  },
  {
   "cell_type": "markdown",
   "id": "fa2c3656",
   "metadata": {},
   "source": [
    "Build on the `while` loop below. \n",
    "\n",
    "3. Make a while loop that says keep running the loop until elevation reaches 5 m. \n",
    "\n",
    "**Challenge** create a new variable to count the number of iterations in your while loop. \n"
   ]
  },
  {
   "cell_type": "code",
   "execution_count": null,
   "id": "851417fa",
   "metadata": {},
   "outputs": [],
   "source": [
    "import numpy as np\n",
    "#while loop\n",
    "elevation = 0.\n",
    "uplift_rate_init = 0.001   # uplift rate in units, mm/year \n",
    "dt = 50    #time step size in years\n",
    "time = np.arange(0,501,dt)# time steps in years\n",
    "#start the while statement below\n",
    "while elevation >= \"frog\":\n",
    "\n"
   ]
  }
 ],
 "metadata": {
  "kernelspec": {
   "display_name": "Python 3 (ipykernel)",
   "language": "python",
   "name": "python3"
  },
  "language_info": {
   "codemirror_mode": {
    "name": "ipython",
    "version": 3
   },
   "file_extension": ".py",
   "mimetype": "text/x-python",
   "name": "python",
   "nbconvert_exporter": "python",
   "pygments_lexer": "ipython3",
   "version": "3.7.16"
  }
 },
 "nbformat": 4,
 "nbformat_minor": 5
}
